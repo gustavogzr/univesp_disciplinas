{
 "cells": [
  {
   "cell_type": "code",
   "execution_count": null,
   "metadata": {},
   "outputs": [],
   "source": [
    "!pip install tensorflow --trusted-host pypi.org --trusted-host files.pythonhosted.org"
   ]
  },
  {
   "cell_type": "code",
   "execution_count": 8,
   "metadata": {},
   "outputs": [],
   "source": [
    "import tensorflow as tf\n",
    "from tensorflow import keras\n",
    "from tensorflow.keras import layers"
   ]
  },
  {
   "cell_type": "code",
   "execution_count": 7,
   "metadata": {},
   "outputs": [],
   "source": [
    "model = keras.Sequential() # Criando um modelo sequencial\n",
    "model.add(layers.Input(shape=(4,))) # Adicionando uma camada de entrada com 4 neurônios\n",
    "model.add(layers.Dense(20)) # Adicionando uma camada densa com 20 neurônios\n",
    "model.add(layers.Dense(10)) # Adicionando uma camada densa com 10 neurônios\n",
    "model.add(layers.Dense(3)) # Adicionando uma camada densa com 3 neurônios"
   ]
  },
  {
   "cell_type": "code",
   "execution_count": 3,
   "metadata": {},
   "outputs": [],
   "source": [
    "input_layer = keras.Input(shape=(4,)) # Criando uma camada de entrada com 4 entradas\n",
    "layer2 = layers.Dense(20)(input_layer) # Adicionando uma camada densa com 20 neurônios\n",
    "layer3 = layers.Dense(10)(layer2) # Adicionando uma camada densa com 10 neurônios\n",
    "output_layer = layers.Dense(3)(layer3) # Adicionando uma camada densa com 3 neurônios\n",
    "model2 = keras.Model(inputs=input_layer, outputs=output_layer) # Criando um modelo com a camada de entrada e a camada de saída"
   ]
  },
  {
   "cell_type": "code",
   "execution_count": 9,
   "metadata": {},
   "outputs": [],
   "source": [
    "model.compile(optimizer='adam', loss='cateforical_crossentropy')\n",
    "# optimizer: algoritmo de otimização\n",
    "# loss: função de perda"
   ]
  },
  {
   "cell_type": "code",
   "execution_count": 10,
   "metadata": {},
   "outputs": [],
   "source": [
    "opt = keras.optimizers.Adam(learning_rate=0.01) # Criando um otimizador com taxa de aprendizado de 0.01\n",
    "model.compile(optimizer=opt, loss='categorical_crossentropy') # Compilando o modelo com o otimizador e a função de perda"
   ]
  },
  {
   "cell_type": "code",
   "execution_count": null,
   "metadata": {},
   "outputs": [],
   "source": [
    "model.fit(x_train, y_train,\n",
    "          epochs=50, # Número de épocas\n",
    "          batch_size=10, # Tamanho do lote\n",
    "          shuffle=True, # Embaralhar os dados\n",
    "          validation_data=(x_val, y_val)) # Dados de validação)"
   ]
  },
  {
   "cell_type": "code",
   "execution_count": null,
   "metadata": {},
   "outputs": [],
   "source": [
    "# Usando PyTorch\n",
    "class MLP(nn.Module):\n",
    "    def __init__(self):\n",
    "        super(MLP, self).__init__()\n",
    "        self.rede = nn.Sequential(\n",
    "            nn.Linear(4, 20),\n",
    "            nn.Tanh(),\n",
    "            nn.Linear(20, 10),\n",
    "            nn.Tanh(),\n",
    "            nn.Linear(10, 3),\n",
    "            nn.Sigmoid(),)\n",
    "    def forward(self, x):\n",
    "        out = self.rede(x)\n",
    "        return out"
   ]
  }
 ],
 "metadata": {
  "kernelspec": {
   "display_name": ".venv",
   "language": "python",
   "name": "python3"
  },
  "language_info": {
   "codemirror_mode": {
    "name": "ipython",
    "version": 3
   },
   "file_extension": ".py",
   "mimetype": "text/x-python",
   "name": "python",
   "nbconvert_exporter": "python",
   "pygments_lexer": "ipython3",
   "version": "3.11.1"
  }
 },
 "nbformat": 4,
 "nbformat_minor": 2
}
