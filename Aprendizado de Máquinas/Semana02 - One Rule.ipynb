{
 "cells": [
  {
   "cell_type": "code",
   "execution_count": 1,
   "metadata": {},
   "outputs": [
    {
     "name": "stdout",
     "output_type": "stream",
     "text": [
      "Bibliotecas importadas com sucesso!\n"
     ]
    }
   ],
   "source": [
    "import pandas as pd\n",
    "import sys\n",
    "import os\n",
    "print(\"Bibliotecas importadas com sucesso!\")"
   ]
  },
  {
   "cell_type": "code",
   "execution_count": 2,
   "metadata": {},
   "outputs": [],
   "source": [
    "tot_aspecto_SIM = [0,0,0] # tot_Sol, tot_Nuvem, tot_Chuva\n",
    "tot_aspecto_NAO = [0,0,0] # tot_Sol, tot_Nuvem, tot_Chuva\n",
    "tot_temperatura_SIM = [0,0,0] # tot_quente, tot_ameno, tot_fresco\n",
    "tot_temperatura_NAO = [0,0,0] # tot_quente, tot_ameno, tot_fresco\n",
    "tot_humidade_SIM = [0,0] # tot_elevada, tot_normal\n",
    "tot_humidade_NAO = [0,0] # tot_elevada, tot_normal\n",
    "tot_vento_SIM = [0,0] # tot_forte, tot_fraco\n",
    "tot_vento_NAO = [0,0] # tot_forte, tot_fraco\n",
    "\n",
    "tx_erro_aspecto = 0\n",
    "tx_erro_temperatura = 0\n",
    "tx_erro_humidade = 0\n",
    "tx_erro_vento = 0\n",
    "\n",
    "regras_aspecto = \"\"\n",
    "regras_temperatura = \"\"\n",
    "regras_humidade = \"\"\n",
    "regras_vento = \"\"\n",
    "\n",
    "tx_erro_menor = 9999\n",
    "tot_exemplos = 0"
   ]
  },
  {
   "cell_type": "code",
   "execution_count": 3,
   "metadata": {},
   "outputs": [
    {
     "name": "stdout",
     "output_type": "stream",
     "text": [
      "    dia aspecto temperatura  umidade  vento jogar\n",
      "0    D1     Sol      Quente  Elevada  Fraco   Nao\n",
      "1    D2     Sol      Quente  Elevada  Forte   Nao\n",
      "2    D3  Nuvens      Quente  Elevada  Fraco   Sim\n",
      "3    D4   Chuva       Ameno  Elevada  Fraco   Sim\n",
      "4    D5   Chuva      Fresco   Normal  Fraco   Sim\n",
      "5    D6   Chuva      Fresco   Normal  Forte   Nao\n",
      "6    D7  Nuvens      Fresco   Normal  Fraco   Sim\n",
      "7    D8     Sol       Ameno  Elevada  Fraco   Nao\n",
      "8    D9     Sol      Fresco   Normal  Fraco   Sim\n",
      "9   D10   Chuva       Ameno   Normal  Forte   Sim\n",
      "10  D11     Sol       Ameno   Normal  Forte   Sim\n",
      "11  D12  Nuvens       Ameno  Elevada  Forte   Sim\n",
      "12  D13  Nuvens      Quente   Normal  Fraco   Sim\n",
      "13  D14   Chuva       Ameno  Elevada  Forte   Nao\n"
     ]
    }
   ],
   "source": [
    "df_entrada = pd.read_csv(\"com410-semana-2-one-rule-jogo.csv\")\n",
    "print(df_entrada)"
   ]
  },
  {
   "cell_type": "code",
   "execution_count": 4,
   "metadata": {},
   "outputs": [
    {
     "name": "stdout",
     "output_type": "stream",
     "text": [
      "Lendo a base de entrada...\n",
      "Total de Exemplos:  14\n"
     ]
    }
   ],
   "source": [
    "print(\"Lendo a base de entrada...\")\n",
    "rows = df_entrada.values # transforma o dataframe em uma matriz\n",
    "tot_exemplos = 0\n",
    "for r in rows:\n",
    "    tot_exemplos = tot_exemplos + 1\n",
    "    dia = r[0]\n",
    "    aspecto = r[1]\n",
    "    temperatura = r[2]\n",
    "    humidade = r[3]\n",
    "    vento = r[4]\n",
    "    jogar = r[5]\n",
    "\n",
    "    if aspecto == \"Sol\":\n",
    "        if jogar == \"Sim\":\n",
    "            tot_aspecto_SIM[0] = tot_aspecto_SIM[0] + 1\n",
    "        else:\n",
    "            tot_aspecto_NAO[0] = tot_aspecto_NAO[0] + 1\n",
    "    if aspecto == \"Nuvens\":\n",
    "        if jogar == \"Sim\":\n",
    "            tot_aspecto_SIM[1] = tot_aspecto_SIM[1] + 1\n",
    "        else:\n",
    "            tot_aspecto_NAO[1] = tot_aspecto_NAO[1] + 1\n",
    "    if aspecto == \"Chuva\":\n",
    "        if jogar == \"Sim\":\n",
    "            tot_aspecto_SIM[2] = tot_aspecto_SIM[2] + 1\n",
    "        else:\n",
    "            tot_aspecto_NAO[2] = tot_aspecto_NAO[2] + 1\n",
    "    \n",
    "    if temperatura == \"Quente\":\n",
    "        if jogar == \"Sim\":\n",
    "            tot_temperatura_SIM[0] = tot_temperatura_SIM[0] + 1\n",
    "        else:\n",
    "            tot_temperatura_NAO[0] = tot_temperatura_NAO[0] + 1\n",
    "    if temperatura == \"Ameno\":\n",
    "        if jogar == \"Sim\":\n",
    "            tot_temperatura_SIM[1] = tot_temperatura_SIM[1] + 1\n",
    "        else:\n",
    "            tot_temperatura_NAO[1] = tot_temperatura_NAO[1] + 1\n",
    "    if temperatura == \"Fresco\":\n",
    "        if jogar == \"Sim\":\n",
    "            tot_temperatura_SIM[2] = tot_temperatura_SIM[2] + 1\n",
    "        else:\n",
    "            tot_temperatura_NAO[2] = tot_temperatura_NAO[2] + 1\n",
    "\n",
    "    if humidade == \"Elevada\":\n",
    "        if jogar == \"Sim\":\n",
    "            tot_humidade_SIM[0] = tot_humidade_SIM[0] + 1\n",
    "        else:\n",
    "            tot_humidade_NAO[0] = tot_humidade_NAO[0] + 1\n",
    "    if humidade == \"Normal\":\n",
    "        if jogar == \"Sim\":\n",
    "            tot_humidade_SIM[1] = tot_humidade_SIM[1] + 1\n",
    "        else:\n",
    "            tot_humidade_NAO[1] = tot_humidade_NAO[1] + 1\n",
    "\n",
    "    if vento == \"Forte\":\n",
    "        if jogar == \"Sim\":\n",
    "            tot_vento_SIM[0] = tot_vento_SIM[0] + 1\n",
    "        else:\n",
    "            tot_vento_NAO[0] = tot_vento_NAO[0] + 1\n",
    "    if vento == \"Fraco\":\n",
    "        if jogar == \"Sim\":\n",
    "            tot_vento_SIM[1] = tot_vento_SIM[1] + 1\n",
    "        else:\n",
    "            tot_vento_NAO[1] = tot_vento_NAO[1] + 1\n",
    "\n",
    "print(\"Total de Exemplos: \", tot_exemplos)"
   ]
  },
  {
   "cell_type": "code",
   "execution_count": 5,
   "metadata": {},
   "outputs": [
    {
     "name": "stdout",
     "output_type": "stream",
     "text": [
      "Identificando as regras para o atributo Aspecto...\n",
      "Se Sol, então não joga\n",
      "Se Nuvens, então joga\n",
      "Se Chuva, então joga\n",
      "Taxa de Erro do atributo Aspecto:  0.2857142857142857\n"
     ]
    }
   ],
   "source": [
    "print(\"Identificando as regras para o atributo Aspecto...\")\n",
    "if tot_aspecto_SIM[0] >= tot_aspecto_NAO[0]:\n",
    "    print(\"Se Sol, então joga\")\n",
    "    tx_erro_aspecto = tx_erro_aspecto + tot_aspecto_NAO[0]\n",
    "    regras_aspecto = regras_aspecto + \"Se Sol, então joga\\n\"\n",
    "else:\n",
    "    print(\"Se Sol, então não joga\")\n",
    "    tx_erro_aspecto = tx_erro_aspecto + tot_aspecto_SIM[0]\n",
    "    regras_aspecto = regras_aspecto + \"Se Sol, então não joga\\n\"\n",
    "\n",
    "if tot_aspecto_SIM[1] >= tot_aspecto_NAO[1]:\n",
    "    print(\"Se Nuvens, então joga\")\n",
    "    tx_erro_aspecto = tx_erro_aspecto + tot_aspecto_NAO[1]\n",
    "    regras_aspecto = regras_aspecto + \"Se Nuvens, então joga\\n\"\n",
    "else:\n",
    "    print(\"Se Nuvens, então não joga\")\n",
    "    tx_erro_aspecto = tx_erro_aspecto + tot_aspecto_SIM[1]\n",
    "    regras_aspecto = regras_aspecto + \"Se Nuvens, então não joga\\n\"\n",
    "\n",
    "if tot_aspecto_SIM[2] >= tot_aspecto_NAO[2]:\n",
    "    print(\"Se Chuva, então joga\")\n",
    "    tx_erro_aspecto = tx_erro_aspecto + tot_aspecto_NAO[2]\n",
    "    regras_aspecto = regras_aspecto + \"Se Chuva, então joga\\n\"\n",
    "else:\n",
    "    print(\"Se Chuva, então não joga\")\n",
    "    tx_erro_aspecto = tx_erro_aspecto + tot_aspecto_SIM[2]\n",
    "    regras_aspecto = regras_aspecto + \"Se Chuva, então não joga\\n\"\n",
    "\n",
    "print(\"Taxa de Erro do atributo Aspecto: \", tx_erro_aspecto/tot_exemplos)\n",
    "if tx_erro_aspecto < tx_erro_menor:\n",
    "    tx_erro_menor = tx_erro_aspecto\n",
    "    conjunto_regras = \"Aspecto\""
   ]
  },
  {
   "cell_type": "code",
   "execution_count": 6,
   "metadata": {},
   "outputs": [
    {
     "name": "stdout",
     "output_type": "stream",
     "text": [
      "Identificando as regras para o atributo Temperatura...\n",
      "Se Quente, então joga\n",
      "Se Ameno, então joga\n",
      "Se Fresco, então joga\n",
      "Taxa de Erro do atributo Temperatura:  0.35714285714285715\n"
     ]
    }
   ],
   "source": [
    "print(\"Identificando as regras para o atributo Temperatura...\")\n",
    "if tot_temperatura_SIM[0] >= tot_temperatura_NAO[0]:\n",
    "    print(\"Se Quente, então joga\")\n",
    "    tx_erro_temperatura = tx_erro_temperatura + tot_temperatura_NAO[0]\n",
    "    regras_temperatura = regras_temperatura + \"Se Quente, então joga\\n\"\n",
    "else:\n",
    "    print(\"Se Quente, então não joga\")\n",
    "    tx_erro_temperatura = tx_erro_temperatura + tot_temperatura_SIM[0]\n",
    "    regras_temperatura = regras_temperatura + \"Se Quente, então não joga\\n\"\n",
    "\n",
    "if tot_temperatura_SIM[1] >= tot_temperatura_NAO[1]:\n",
    "    print(\"Se Ameno, então joga\")\n",
    "    tx_erro_temperatura = tx_erro_temperatura + tot_temperatura_NAO[1]\n",
    "    regras_temperatura = regras_temperatura + \"Se Ameno, então joga\\n\"\n",
    "else:\n",
    "    print(\"Se Ameno, então não joga\")\n",
    "    tx_erro_temperatura = tx_erro_temperatura + tot_temperatura_SIM[1]\n",
    "    regras_temperatura = regras_temperatura + \"Se Ameno, então não joga\\n\"\n",
    "\n",
    "if tot_temperatura_SIM[2] >= tot_temperatura_NAO[2]:\n",
    "    print(\"Se Fresco, então joga\")\n",
    "    tx_erro_temperatura = tx_erro_temperatura + tot_temperatura_NAO[2]\n",
    "    regras_temperatura = regras_temperatura + \"Se Fresco, então joga\\n\"\n",
    "else:\n",
    "    print(\"Se Fresco, então não joga\")\n",
    "    tx_erro_temperatura = tx_erro_temperatura + tot_temperatura_SIM[2]\n",
    "    regras_temperatura = regras_temperatura + \"Se Fresco, então não joga\\n\"\n",
    "\n",
    "print(\"Taxa de Erro do atributo Temperatura: \", tx_erro_temperatura/tot_exemplos)\n",
    "if tx_erro_temperatura < tx_erro_menor:\n",
    "    tx_erro_menor = tx_erro_temperatura\n",
    "    conjunto_regras = \"Temperatura\""
   ]
  },
  {
   "cell_type": "code",
   "execution_count": 7,
   "metadata": {},
   "outputs": [
    {
     "name": "stdout",
     "output_type": "stream",
     "text": [
      "Identificando as regras para o atributo Humidade...\n",
      "Se Elevada, então não joga\n",
      "Se Normal, então joga\n",
      "Taxa de Erro do atributo Humidade:  0.2857142857142857\n"
     ]
    }
   ],
   "source": [
    "print(\"Identificando as regras para o atributo Humidade...\")\n",
    "\n",
    "if tot_humidade_SIM[0] >= tot_humidade_NAO[0]:\n",
    "    print(\"Se Elevada, então joga\")\n",
    "    tx_erro_humidade = tx_erro_humidade + tot_humidade_NAO[0]\n",
    "    regras_humidade = regras_humidade + \"Se Elevada, então joga\\n\"\n",
    "else:\n",
    "    print(\"Se Elevada, então não joga\")\n",
    "    tx_erro_humidade = tx_erro_humidade + tot_humidade_SIM[0]\n",
    "    regras_humidade = regras_humidade + \"Se Elevada, então não joga\\n\"\n",
    "\n",
    "if tot_humidade_SIM[1] >= tot_humidade_NAO[1]:\n",
    "    print(\"Se Normal, então joga\")\n",
    "    tx_erro_humidade = tx_erro_humidade + tot_humidade_NAO[1]\n",
    "    regras_humidade = regras_humidade + \"Se Normal, então joga\\n\"\n",
    "else:\n",
    "    print(\"Se Normal, então não joga\")\n",
    "    tx_erro_humidade = tx_erro_humidade + tot_humidade_SIM[1]\n",
    "    regras_humidade = regras_humidade + \"Se Normal, então não joga\\n\"\n",
    "\n",
    "print(\"Taxa de Erro do atributo Humidade: \", tx_erro_humidade/tot_exemplos)\n",
    "if tx_erro_humidade < tx_erro_menor:\n",
    "    tx_erro_menor = tx_erro_humidade\n",
    "    conjunto_regras = \"Humidade\""
   ]
  },
  {
   "cell_type": "code",
   "execution_count": 8,
   "metadata": {},
   "outputs": [
    {
     "name": "stdout",
     "output_type": "stream",
     "text": [
      "Identificando as regras para o atributo Vento...\n",
      "Se Forte, então joga\n",
      "Se Fraco, então joga\n",
      "Taxa de Erro do atributo Vento:  0.35714285714285715\n"
     ]
    }
   ],
   "source": [
    "print(\"Identificando as regras para o atributo Vento...\")\n",
    "\n",
    "if tot_vento_SIM[0] >= tot_vento_NAO[0]:\n",
    "    print(\"Se Forte, então joga\")\n",
    "    tx_erro_vento = tx_erro_vento + tot_vento_NAO[0]\n",
    "    regras_vento = regras_vento + \"Se Forte, então joga\\n\"\n",
    "else:\n",
    "    print(\"Se Forte, então não joga\")\n",
    "    tx_erro_vento = tx_erro_vento + tot_vento_SIM[0]\n",
    "    regras_vento = regras_vento + \"Se Forte, então não joga\\n\"\n",
    "\n",
    "if tot_vento_SIM[1] >= tot_vento_NAO[1]:\n",
    "    print(\"Se Fraco, então joga\")\n",
    "    tx_erro_vento = tx_erro_vento + tot_vento_NAO[1]\n",
    "    regras_vento = regras_vento + \"Se Fraco, então joga\\n\"\n",
    "else:\n",
    "    print(\"Se Fraco, então não joga\")\n",
    "    tx_erro_vento = tx_erro_vento + tot_vento_SIM[1]\n",
    "    regras_vento = regras_vento + \"Se Fraco, então não joga\\n\"\n",
    "\n",
    "print(\"Taxa de Erro do atributo Vento: \", tx_erro_vento/tot_exemplos)\n",
    "if tx_erro_vento < tx_erro_menor:\n",
    "    tx_erro_menor = tx_erro_vento\n",
    "    conjunto_regras = \"Vento\""
   ]
  },
  {
   "cell_type": "code",
   "execution_count": 9,
   "metadata": {},
   "outputs": [
    {
     "name": "stdout",
     "output_type": "stream",
     "text": [
      "Encontrando a menor taxa de erro...\n",
      "Taxa de Erro Menor:  4\n",
      "Conjunto de Regras:  Aspecto\n",
      "Se Sol, então não joga\n",
      "Se Nuvens, então joga\n",
      "Se Chuva, então joga\n",
      "\n"
     ]
    }
   ],
   "source": [
    "print(\"Encontrando a menor taxa de erro...\")\n",
    "print(\"Taxa de Erro Menor: \", tx_erro_menor)\n",
    "print(\"Conjunto de Regras: \", conjunto_regras)\n",
    "if conjunto_regras == \"Aspecto\":\n",
    "    print(regras_aspecto)\n",
    "if conjunto_regras == \"Temperatura\":\n",
    "    print(regras_temperatura)\n",
    "if conjunto_regras == \"Humidade\":\n",
    "    print(regras_humidade)\n",
    "if conjunto_regras == \"Vento\":\n",
    "    print(regras_vento)"
   ]
  }
 ],
 "metadata": {
  "kernelspec": {
   "display_name": "Python 3",
   "language": "python",
   "name": "python3"
  },
  "language_info": {
   "codemirror_mode": {
    "name": "ipython",
    "version": 3
   },
   "file_extension": ".py",
   "mimetype": "text/x-python",
   "name": "python",
   "nbconvert_exporter": "python",
   "pygments_lexer": "ipython3",
   "version": "3.11.1"
  }
 },
 "nbformat": 4,
 "nbformat_minor": 2
}
