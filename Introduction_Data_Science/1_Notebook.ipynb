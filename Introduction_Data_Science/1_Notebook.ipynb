{
 "cells": [
  {
   "cell_type": "code",
   "execution_count": null,
   "id": "3c3534ec-631a-484f-b009-e291afd198d9",
   "metadata": {
    "tags": []
   },
   "outputs": [],
   "source": [
    "x=10"
   ]
  },
  {
   "cell_type": "code",
   "execution_count": null,
   "id": "ea54ec90-b02c-472a-b9c4-31db3cc1ca23",
   "metadata": {
    "tags": []
   },
   "outputs": [],
   "source": [
    "print(x)"
   ]
  },
  {
   "cell_type": "code",
   "execution_count": null,
   "id": "a4bbb1ad-ea66-4d47-b02b-a22bb68adf80",
   "metadata": {
    "tags": []
   },
   "outputs": [],
   "source": [
    "x=11"
   ]
  },
  {
   "cell_type": "code",
   "execution_count": null,
   "id": "b47acb6e-43af-4430-90c2-1498ae248787",
   "metadata": {
    "tags": []
   },
   "outputs": [],
   "source": [
    "x"
   ]
  },
  {
   "cell_type": "markdown",
   "id": "ddfd5cad-9f4e-46c4-a7e8-c5650a24a085",
   "metadata": {},
   "source": [
    "Esse é um programa Python"
   ]
  },
  {
   "cell_type": "markdown",
   "id": "f3d95235-d59e-43fa-a170-b5f0887690ae",
   "metadata": {
    "tags": []
   },
   "source": [
    "# Cabeçalho 1"
   ]
  },
  {
   "cell_type": "markdown",
   "id": "61690f71-a1c0-45a7-9142-f5620e055667",
   "metadata": {
    "tags": []
   },
   "source": [
    "## Cabeçalho 2"
   ]
  },
  {
   "cell_type": "code",
   "execution_count": 10,
   "id": "0b9f2e1e-402a-4dc0-af90-272f0f853b89",
   "metadata": {
    "tags": []
   },
   "outputs": [
    {
     "name": "stdout",
     "output_type": "stream",
     "text": [
      "0\n",
      "1\n",
      "2\n",
      "3\n",
      "4\n",
      "5\n",
      "6\n",
      "7\n",
      "8\n",
      "9\n"
     ]
    }
   ],
   "source": [
    "for i in range(10):\n",
    "    print(i)"
   ]
  }
 ],
 "metadata": {
  "kernelspec": {
   "display_name": "Python 3 (ipykernel)",
   "language": "python",
   "name": "python3"
  },
  "language_info": {
   "codemirror_mode": {
    "name": "ipython",
    "version": 3
   },
   "file_extension": ".py",
   "mimetype": "text/x-python",
   "name": "python",
   "nbconvert_exporter": "python",
   "pygments_lexer": "ipython3",
   "version": "3.11.2"
  }
 },
 "nbformat": 4,
 "nbformat_minor": 5
}
