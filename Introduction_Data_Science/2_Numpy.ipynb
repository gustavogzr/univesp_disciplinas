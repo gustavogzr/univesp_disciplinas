{
 "cells": [
  {
   "attachments": {},
   "cell_type": "markdown",
   "id": "513cda8f",
   "metadata": {},
   "source": [
    "Demonstração de NumPy - Videoaula 05"
   ]
  },
  {
   "attachments": {},
   "cell_type": "markdown",
   "id": "9fb12a5f",
   "metadata": {},
   "source": [
    "#### Importar Bibloteca"
   ]
  },
  {
   "cell_type": "code",
   "execution_count": 2,
   "id": "4e920902-ed0a-4e7c-b53b-18582ea7af6f",
   "metadata": {},
   "outputs": [],
   "source": [
    "import numpy as np"
   ]
  },
  {
   "attachments": {},
   "cell_type": "markdown",
   "id": "e2b41f73",
   "metadata": {},
   "source": [
    "#### Gerar dados aleatórios"
   ]
  },
  {
   "attachments": {},
   "cell_type": "markdown",
   "id": "b9784057",
   "metadata": {},
   "source": [
    "##### Gerar um NDArray de 2x3 (duas linhas com 3 elementos)"
   ]
  },
  {
   "cell_type": "code",
   "execution_count": 3,
   "id": "37b0fe33",
   "metadata": {},
   "outputs": [],
   "source": [
    "dados = np.random.rand(2,3)"
   ]
  },
  {
   "cell_type": "code",
   "execution_count": 4,
   "id": "258f3da5",
   "metadata": {},
   "outputs": [
    {
     "data": {
      "text/plain": [
       "array([[0.28132467, 0.89083289, 0.57333137],\n",
       "       [0.34484508, 0.8740166 , 0.95134347]])"
      ]
     },
     "execution_count": 4,
     "metadata": {},
     "output_type": "execute_result"
    }
   ],
   "source": [
    "dados"
   ]
  },
  {
   "attachments": {},
   "cell_type": "markdown",
   "id": "44ec7670",
   "metadata": {},
   "source": [
    "##### Tipo do Array"
   ]
  },
  {
   "cell_type": "code",
   "execution_count": 5,
   "id": "ca227acd",
   "metadata": {},
   "outputs": [
    {
     "data": {
      "text/plain": [
       "dtype('float64')"
      ]
     },
     "execution_count": 5,
     "metadata": {},
     "output_type": "execute_result"
    }
   ],
   "source": [
    "dados.dtype"
   ]
  },
  {
   "attachments": {},
   "cell_type": "markdown",
   "id": "4b64880c",
   "metadata": {},
   "source": [
    "##### Tamanho e quantidade de dimensões"
   ]
  },
  {
   "cell_type": "code",
   "execution_count": 6,
   "id": "6af0484b",
   "metadata": {},
   "outputs": [
    {
     "data": {
      "text/plain": [
       "(2, 3)"
      ]
     },
     "execution_count": 6,
     "metadata": {},
     "output_type": "execute_result"
    }
   ],
   "source": [
    "dados.shape"
   ]
  },
  {
   "cell_type": "code",
   "execution_count": 7,
   "id": "ed4cda66",
   "metadata": {},
   "outputs": [
    {
     "data": {
      "text/plain": [
       "2"
      ]
     },
     "execution_count": 7,
     "metadata": {},
     "output_type": "execute_result"
    }
   ],
   "source": [
    "dados.ndim"
   ]
  },
  {
   "attachments": {},
   "cell_type": "markdown",
   "id": "6bf44743",
   "metadata": {},
   "source": [
    "#### Criar ndarray usando a função array"
   ]
  },
  {
   "attachments": {},
   "cell_type": "markdown",
   "id": "de75d607",
   "metadata": {},
   "source": [
    "Ao criar o array a função array tenta utilizar o melhor tipo de dado"
   ]
  },
  {
   "cell_type": "code",
   "execution_count": 8,
   "id": "4359b75a",
   "metadata": {},
   "outputs": [],
   "source": [
    "lista=[1,2,5,7.8,1.25]"
   ]
  },
  {
   "cell_type": "code",
   "execution_count": 9,
   "id": "69350274",
   "metadata": {},
   "outputs": [],
   "source": [
    "dados2 = np.array(lista)"
   ]
  },
  {
   "cell_type": "code",
   "execution_count": 10,
   "id": "7aaf35eb",
   "metadata": {},
   "outputs": [
    {
     "data": {
      "text/plain": [
       "array([1.  , 2.  , 5.  , 7.8 , 1.25])"
      ]
     },
     "execution_count": 10,
     "metadata": {},
     "output_type": "execute_result"
    }
   ],
   "source": [
    "dados2"
   ]
  },
  {
   "cell_type": "code",
   "execution_count": 11,
   "id": "19d4cdfd",
   "metadata": {},
   "outputs": [],
   "source": [
    "lista2 = [[1,2,3,4],[4,3,2,1]]"
   ]
  },
  {
   "cell_type": "code",
   "execution_count": 12,
   "id": "11cf4289",
   "metadata": {},
   "outputs": [],
   "source": [
    "dados3 = np.array(lista2)"
   ]
  },
  {
   "cell_type": "code",
   "execution_count": 13,
   "id": "b199391e",
   "metadata": {},
   "outputs": [
    {
     "data": {
      "text/plain": [
       "array([[1, 2, 3, 4],\n",
       "       [4, 3, 2, 1]])"
      ]
     },
     "execution_count": 13,
     "metadata": {},
     "output_type": "execute_result"
    }
   ],
   "source": [
    "dados3"
   ]
  },
  {
   "attachments": {},
   "cell_type": "markdown",
   "id": "01a51de8",
   "metadata": {},
   "source": [
    "#### Outras maneiras de criar arrays"
   ]
  },
  {
   "cell_type": "code",
   "execution_count": 14,
   "id": "88576ad9",
   "metadata": {},
   "outputs": [],
   "source": [
    "dadoszero = np.zeros(10)"
   ]
  },
  {
   "cell_type": "code",
   "execution_count": 15,
   "id": "063f7f73",
   "metadata": {},
   "outputs": [
    {
     "data": {
      "text/plain": [
       "array([0., 0., 0., 0., 0., 0., 0., 0., 0., 0.])"
      ]
     },
     "execution_count": 15,
     "metadata": {},
     "output_type": "execute_result"
    }
   ],
   "source": [
    "dadoszero"
   ]
  },
  {
   "cell_type": "code",
   "execution_count": 16,
   "id": "747c8ad4",
   "metadata": {},
   "outputs": [],
   "source": [
    "dadoszero2 = np.zeros((2,3))"
   ]
  },
  {
   "cell_type": "code",
   "execution_count": 17,
   "id": "8a0a09c2",
   "metadata": {},
   "outputs": [
    {
     "data": {
      "text/plain": [
       "array([[0., 0., 0.],\n",
       "       [0., 0., 0.]])"
      ]
     },
     "execution_count": 17,
     "metadata": {},
     "output_type": "execute_result"
    }
   ],
   "source": [
    "dadoszero2"
   ]
  },
  {
   "cell_type": "code",
   "execution_count": 18,
   "id": "df87360b",
   "metadata": {},
   "outputs": [],
   "source": [
    "dadosum = np.ones(5)"
   ]
  },
  {
   "cell_type": "code",
   "execution_count": 19,
   "id": "19eca21d",
   "metadata": {},
   "outputs": [
    {
     "data": {
      "text/plain": [
       "array([1., 1., 1., 1., 1.])"
      ]
     },
     "execution_count": 19,
     "metadata": {},
     "output_type": "execute_result"
    }
   ],
   "source": [
    "dadosum"
   ]
  },
  {
   "cell_type": "code",
   "execution_count": 20,
   "id": "44a5399c",
   "metadata": {},
   "outputs": [],
   "source": [
    "dadosseq = np.arange(10)"
   ]
  },
  {
   "cell_type": "code",
   "execution_count": 21,
   "id": "063d2cf1",
   "metadata": {},
   "outputs": [
    {
     "data": {
      "text/plain": [
       "array([0, 1, 2, 3, 4, 5, 6, 7, 8, 9])"
      ]
     },
     "execution_count": 21,
     "metadata": {},
     "output_type": "execute_result"
    }
   ],
   "source": [
    "dadosseq"
   ]
  },
  {
   "cell_type": "code",
   "execution_count": 22,
   "id": "0f757126",
   "metadata": {},
   "outputs": [],
   "source": [
    "dadosseq2 = np.arange(0,20,2)"
   ]
  },
  {
   "cell_type": "code",
   "execution_count": 23,
   "id": "97a3749e",
   "metadata": {},
   "outputs": [
    {
     "data": {
      "text/plain": [
       "array([ 0,  2,  4,  6,  8, 10, 12, 14, 16, 18])"
      ]
     },
     "execution_count": 23,
     "metadata": {},
     "output_type": "execute_result"
    }
   ],
   "source": [
    "dadosseq2"
   ]
  },
  {
   "cell_type": "code",
   "execution_count": 24,
   "id": "a7db06aa",
   "metadata": {},
   "outputs": [
    {
     "data": {
      "text/plain": [
       "dtype('int32')"
      ]
     },
     "execution_count": 24,
     "metadata": {},
     "output_type": "execute_result"
    }
   ],
   "source": [
    "dadosseq.dtype"
   ]
  },
  {
   "cell_type": "code",
   "execution_count": 25,
   "id": "cddd94ef",
   "metadata": {},
   "outputs": [],
   "source": [
    "dadosseqf = dadosseq.astype(np.float64)"
   ]
  },
  {
   "cell_type": "code",
   "execution_count": 26,
   "id": "a51fd311",
   "metadata": {},
   "outputs": [
    {
     "data": {
      "text/plain": [
       "array([0., 1., 2., 3., 4., 5., 6., 7., 8., 9.])"
      ]
     },
     "execution_count": 26,
     "metadata": {},
     "output_type": "execute_result"
    }
   ],
   "source": [
    "dadosseqf"
   ]
  },
  {
   "cell_type": "code",
   "execution_count": 27,
   "id": "1a31c995",
   "metadata": {},
   "outputs": [
    {
     "data": {
      "text/plain": [
       "dtype('float64')"
      ]
     },
     "execution_count": 27,
     "metadata": {},
     "output_type": "execute_result"
    }
   ],
   "source": [
    "dadosseqf.dtype"
   ]
  },
  {
   "attachments": {},
   "cell_type": "markdown",
   "id": "8868fa7a",
   "metadata": {},
   "source": [
    "#### Aritmética com Arrays"
   ]
  },
  {
   "cell_type": "code",
   "execution_count": 29,
   "id": "781719d9",
   "metadata": {},
   "outputs": [],
   "source": [
    "dados4 = np.array([[1,2,3],[4,5,6]])"
   ]
  },
  {
   "cell_type": "code",
   "execution_count": 30,
   "id": "63f08da8",
   "metadata": {},
   "outputs": [
    {
     "data": {
      "text/plain": [
       "array([[1, 2, 3],\n",
       "       [4, 5, 6]])"
      ]
     },
     "execution_count": 30,
     "metadata": {},
     "output_type": "execute_result"
    }
   ],
   "source": [
    "dados4"
   ]
  },
  {
   "cell_type": "code",
   "execution_count": 31,
   "id": "ba171720",
   "metadata": {},
   "outputs": [
    {
     "data": {
      "text/plain": [
       "array([[ 1,  4,  9],\n",
       "       [16, 25, 36]])"
      ]
     },
     "execution_count": 31,
     "metadata": {},
     "output_type": "execute_result"
    }
   ],
   "source": [
    "dados4 * dados4"
   ]
  },
  {
   "cell_type": "code",
   "execution_count": 32,
   "id": "f0ccaa7a",
   "metadata": {},
   "outputs": [
    {
     "data": {
      "text/plain": [
       "array([[0, 0, 0],\n",
       "       [0, 0, 0]])"
      ]
     },
     "execution_count": 32,
     "metadata": {},
     "output_type": "execute_result"
    }
   ],
   "source": [
    "dados4 - dados4"
   ]
  },
  {
   "cell_type": "code",
   "execution_count": 33,
   "id": "58d0c56f",
   "metadata": {},
   "outputs": [
    {
     "data": {
      "text/plain": [
       "array([[1.        , 0.5       , 0.33333333],\n",
       "       [0.25      , 0.2       , 0.16666667]])"
      ]
     },
     "execution_count": 33,
     "metadata": {},
     "output_type": "execute_result"
    }
   ],
   "source": [
    "1 / dados4"
   ]
  },
  {
   "cell_type": "code",
   "execution_count": 34,
   "id": "590453b6",
   "metadata": {},
   "outputs": [],
   "source": [
    "dados5 = dados4 + dados4"
   ]
  },
  {
   "cell_type": "code",
   "execution_count": 35,
   "id": "ea532c7d",
   "metadata": {},
   "outputs": [
    {
     "data": {
      "text/plain": [
       "array([[ 2,  4,  6],\n",
       "       [ 8, 10, 12]])"
      ]
     },
     "execution_count": 35,
     "metadata": {},
     "output_type": "execute_result"
    }
   ],
   "source": [
    "dados5"
   ]
  },
  {
   "cell_type": "code",
   "execution_count": 36,
   "id": "e6ab0d75",
   "metadata": {},
   "outputs": [
    {
     "data": {
      "text/plain": [
       "array([[1, 2, 3],\n",
       "       [4, 5, 6]])"
      ]
     },
     "execution_count": 36,
     "metadata": {},
     "output_type": "execute_result"
    }
   ],
   "source": [
    "dados4"
   ]
  },
  {
   "cell_type": "code",
   "execution_count": 37,
   "id": "e41bb0c4",
   "metadata": {},
   "outputs": [
    {
     "data": {
      "text/plain": [
       "array([[ True,  True,  True],\n",
       "       [ True,  True,  True]])"
      ]
     },
     "execution_count": 37,
     "metadata": {},
     "output_type": "execute_result"
    }
   ],
   "source": [
    "dados5 > dados4"
   ]
  },
  {
   "attachments": {},
   "cell_type": "markdown",
   "id": "15ff2f36",
   "metadata": {},
   "source": [
    "#### Indexação"
   ]
  },
  {
   "cell_type": "code",
   "execution_count": 38,
   "id": "951c7ed4",
   "metadata": {},
   "outputs": [
    {
     "data": {
      "text/plain": [
       "array([0, 1, 2, 3, 4, 5, 6, 7, 8, 9])"
      ]
     },
     "execution_count": 38,
     "metadata": {},
     "output_type": "execute_result"
    }
   ],
   "source": [
    "dadosseq"
   ]
  },
  {
   "cell_type": "code",
   "execution_count": 39,
   "id": "ed067e18",
   "metadata": {},
   "outputs": [
    {
     "data": {
      "text/plain": [
       "5"
      ]
     },
     "execution_count": 39,
     "metadata": {},
     "output_type": "execute_result"
    }
   ],
   "source": [
    "dadosseq[5]"
   ]
  },
  {
   "attachments": {},
   "cell_type": "markdown",
   "id": "f290b4da",
   "metadata": {},
   "source": [
    "Diferente de uma lista Python, um recorte (fatia) de um ndarray sofrerá broadcast - é como se fosse uma view de banco de dados.\n",
    "Com conjuntos imensos de dados isso é uma grande vantagem em relação à performance."
   ]
  },
  {
   "cell_type": "code",
   "execution_count": 40,
   "id": "9490c452",
   "metadata": {},
   "outputs": [
    {
     "data": {
      "text/plain": [
       "array([3, 4, 5])"
      ]
     },
     "execution_count": 40,
     "metadata": {},
     "output_type": "execute_result"
    }
   ],
   "source": [
    "dadosseq[3:6]"
   ]
  },
  {
   "cell_type": "code",
   "execution_count": 41,
   "id": "4f06c904",
   "metadata": {},
   "outputs": [],
   "source": [
    "dadosseq[3:6] = 20"
   ]
  },
  {
   "cell_type": "code",
   "execution_count": 42,
   "id": "1adbafcc",
   "metadata": {},
   "outputs": [
    {
     "data": {
      "text/plain": [
       "array([ 0,  1,  2, 20, 20, 20,  6,  7,  8,  9])"
      ]
     },
     "execution_count": 42,
     "metadata": {},
     "output_type": "execute_result"
    }
   ],
   "source": [
    "dadosseq"
   ]
  },
  {
   "cell_type": "code",
   "execution_count": 45,
   "id": "bde5b216",
   "metadata": {},
   "outputs": [],
   "source": [
    "fatiadados = dadosseq[2:4]"
   ]
  },
  {
   "cell_type": "code",
   "execution_count": 46,
   "id": "7170f1af",
   "metadata": {},
   "outputs": [
    {
     "data": {
      "text/plain": [
       "array([ 2, 20])"
      ]
     },
     "execution_count": 46,
     "metadata": {},
     "output_type": "execute_result"
    }
   ],
   "source": [
    "fatiadados"
   ]
  },
  {
   "cell_type": "code",
   "execution_count": 47,
   "id": "01ae3dad",
   "metadata": {},
   "outputs": [],
   "source": [
    "fatiadados[1] = 2000"
   ]
  },
  {
   "cell_type": "code",
   "execution_count": 48,
   "id": "f72a1df0",
   "metadata": {},
   "outputs": [
    {
     "data": {
      "text/plain": [
       "array([   2, 2000])"
      ]
     },
     "execution_count": 48,
     "metadata": {},
     "output_type": "execute_result"
    }
   ],
   "source": [
    "fatiadados"
   ]
  },
  {
   "cell_type": "code",
   "execution_count": 49,
   "id": "fdc04e8c",
   "metadata": {},
   "outputs": [
    {
     "data": {
      "text/plain": [
       "array([   0,    1,    2, 2000,   20,   20,    6,    7,    8,    9])"
      ]
     },
     "execution_count": 49,
     "metadata": {},
     "output_type": "execute_result"
    }
   ],
   "source": [
    "dadosseq"
   ]
  },
  {
   "cell_type": "code",
   "execution_count": 50,
   "id": "bce60e69",
   "metadata": {},
   "outputs": [],
   "source": [
    "fatiadados[:] = 333"
   ]
  },
  {
   "cell_type": "code",
   "execution_count": 51,
   "id": "a928c4fb",
   "metadata": {},
   "outputs": [
    {
     "data": {
      "text/plain": [
       "array([  0,   1, 333, 333,  20,  20,   6,   7,   8,   9])"
      ]
     },
     "execution_count": 51,
     "metadata": {},
     "output_type": "execute_result"
    }
   ],
   "source": [
    "dadosseq"
   ]
  },
  {
   "attachments": {},
   "cell_type": "markdown",
   "id": "fcacd9d6",
   "metadata": {},
   "source": [
    "#### Copiar dados"
   ]
  },
  {
   "cell_type": "code",
   "execution_count": 52,
   "id": "b643693a",
   "metadata": {},
   "outputs": [],
   "source": [
    "fatia2 = dadosseq[2:4].copy()"
   ]
  },
  {
   "cell_type": "code",
   "execution_count": 53,
   "id": "c320a33c",
   "metadata": {},
   "outputs": [
    {
     "data": {
      "text/plain": [
       "array([333, 333])"
      ]
     },
     "execution_count": 53,
     "metadata": {},
     "output_type": "execute_result"
    }
   ],
   "source": [
    "fatia2"
   ]
  },
  {
   "cell_type": "code",
   "execution_count": 54,
   "id": "27934d25",
   "metadata": {},
   "outputs": [],
   "source": [
    "fatia2[:] = 111"
   ]
  },
  {
   "cell_type": "code",
   "execution_count": 57,
   "id": "dec3f524",
   "metadata": {},
   "outputs": [
    {
     "data": {
      "text/plain": [
       "array([111, 111])"
      ]
     },
     "execution_count": 57,
     "metadata": {},
     "output_type": "execute_result"
    }
   ],
   "source": [
    "fatia2"
   ]
  },
  {
   "cell_type": "code",
   "execution_count": 58,
   "id": "8d3f224d",
   "metadata": {},
   "outputs": [
    {
     "data": {
      "text/plain": [
       "array([  0,   1, 333, 333,  20,  20,   6,   7,   8,   9])"
      ]
     },
     "execution_count": 58,
     "metadata": {},
     "output_type": "execute_result"
    }
   ],
   "source": [
    "dadosseq"
   ]
  },
  {
   "attachments": {},
   "cell_type": "markdown",
   "id": "c5f3d5f8",
   "metadata": {},
   "source": [
    "#### Array com mais de uma dimensão"
   ]
  },
  {
   "cell_type": "code",
   "execution_count": 59,
   "id": "80e72c5b",
   "metadata": {},
   "outputs": [],
   "source": [
    "dados6 = np.array([[1,2,3],[4,5,6],[7,8,9]])"
   ]
  },
  {
   "cell_type": "code",
   "execution_count": 60,
   "id": "341321ed",
   "metadata": {},
   "outputs": [
    {
     "data": {
      "text/plain": [
       "array([[1, 2, 3],\n",
       "       [4, 5, 6],\n",
       "       [7, 8, 9]])"
      ]
     },
     "execution_count": 60,
     "metadata": {},
     "output_type": "execute_result"
    }
   ],
   "source": [
    "dados6"
   ]
  },
  {
   "cell_type": "code",
   "execution_count": 61,
   "id": "ec255828",
   "metadata": {},
   "outputs": [
    {
     "data": {
      "text/plain": [
       "6"
      ]
     },
     "execution_count": 61,
     "metadata": {},
     "output_type": "execute_result"
    }
   ],
   "source": [
    "dados6[1,2]"
   ]
  },
  {
   "attachments": {},
   "cell_type": "markdown",
   "id": "2dae4169",
   "metadata": {},
   "source": [
    "#### Máscaras"
   ]
  },
  {
   "cell_type": "code",
   "execution_count": 62,
   "id": "34318d81",
   "metadata": {},
   "outputs": [
    {
     "data": {
      "text/plain": [
       "array([  0,   1, 333, 333,  20,  20,   6,   7,   8,   9])"
      ]
     },
     "execution_count": 62,
     "metadata": {},
     "output_type": "execute_result"
    }
   ],
   "source": [
    "dadosseq"
   ]
  },
  {
   "cell_type": "code",
   "execution_count": 63,
   "id": "ad071197",
   "metadata": {},
   "outputs": [],
   "source": [
    "mascara=(dadosseq < 100)"
   ]
  },
  {
   "cell_type": "code",
   "execution_count": 64,
   "id": "ec21f27e",
   "metadata": {},
   "outputs": [
    {
     "data": {
      "text/plain": [
       "array([ True,  True, False, False,  True,  True,  True,  True,  True,\n",
       "        True])"
      ]
     },
     "execution_count": 64,
     "metadata": {},
     "output_type": "execute_result"
    }
   ],
   "source": [
    "mascara"
   ]
  },
  {
   "cell_type": "code",
   "execution_count": 65,
   "id": "3237d746",
   "metadata": {},
   "outputs": [],
   "source": [
    "dadosseq[dadosseq < 20] = 8888"
   ]
  },
  {
   "cell_type": "code",
   "execution_count": 66,
   "id": "88cc6fd4",
   "metadata": {},
   "outputs": [
    {
     "data": {
      "text/plain": [
       "array([8888, 8888,  333,  333,   20,   20, 8888, 8888, 8888, 8888])"
      ]
     },
     "execution_count": 66,
     "metadata": {},
     "output_type": "execute_result"
    }
   ],
   "source": [
    "dadosseq"
   ]
  },
  {
   "attachments": {},
   "cell_type": "markdown",
   "id": "8fa22897",
   "metadata": {},
   "source": [
    "#### Transposição"
   ]
  },
  {
   "cell_type": "code",
   "execution_count": 67,
   "id": "4ecd3aad",
   "metadata": {},
   "outputs": [],
   "source": [
    "dados7 = np.arange(15).reshape((3,5))"
   ]
  },
  {
   "cell_type": "code",
   "execution_count": 68,
   "id": "0bd3f91d",
   "metadata": {},
   "outputs": [
    {
     "data": {
      "text/plain": [
       "array([[ 0,  1,  2,  3,  4],\n",
       "       [ 5,  6,  7,  8,  9],\n",
       "       [10, 11, 12, 13, 14]])"
      ]
     },
     "execution_count": 68,
     "metadata": {},
     "output_type": "execute_result"
    }
   ],
   "source": [
    "dados7"
   ]
  },
  {
   "cell_type": "code",
   "execution_count": 69,
   "id": "51a2b1d8",
   "metadata": {},
   "outputs": [
    {
     "data": {
      "text/plain": [
       "array([[ 0,  5, 10],\n",
       "       [ 1,  6, 11],\n",
       "       [ 2,  7, 12],\n",
       "       [ 3,  8, 13],\n",
       "       [ 4,  9, 14]])"
      ]
     },
     "execution_count": 69,
     "metadata": {},
     "output_type": "execute_result"
    }
   ],
   "source": [
    "dados7.T"
   ]
  },
  {
   "attachments": {},
   "cell_type": "markdown",
   "id": "6ee7e6cf",
   "metadata": {},
   "source": [
    "#### Multiplicação de matrizes com dots"
   ]
  },
  {
   "cell_type": "code",
   "execution_count": 70,
   "id": "2355c941",
   "metadata": {},
   "outputs": [
    {
     "data": {
      "text/plain": [
       "array([[125, 140, 155, 170, 185],\n",
       "       [140, 158, 176, 194, 212],\n",
       "       [155, 176, 197, 218, 239],\n",
       "       [170, 194, 218, 242, 266],\n",
       "       [185, 212, 239, 266, 293]])"
      ]
     },
     "execution_count": 70,
     "metadata": {},
     "output_type": "execute_result"
    }
   ],
   "source": [
    "np.dot(dados7.T,dados7)"
   ]
  },
  {
   "attachments": {},
   "cell_type": "markdown",
   "id": "40b459bd",
   "metadata": {},
   "source": [
    "#### Vejam que há muitas outras funções que podem ser exploradas como: sin, cos, power, mod, sqrt, entre outras."
   ]
  },
  {
   "cell_type": "code",
   "execution_count": 81,
   "id": "e21fb10e",
   "metadata": {},
   "outputs": [
    {
     "data": {
      "text/plain": [
       "0.49999999999999994"
      ]
     },
     "execution_count": 81,
     "metadata": {},
     "output_type": "execute_result"
    }
   ],
   "source": [
    "np.sin(np.pi/6)"
   ]
  },
  {
   "cell_type": "code",
   "execution_count": 82,
   "id": "f2e3d966",
   "metadata": {},
   "outputs": [
    {
     "data": {
      "text/plain": [
       "0.8660254037844387"
      ]
     },
     "execution_count": 82,
     "metadata": {},
     "output_type": "execute_result"
    }
   ],
   "source": [
    "np.cos(np.pi/6)"
   ]
  },
  {
   "cell_type": "code",
   "execution_count": 83,
   "id": "0c638c07",
   "metadata": {},
   "outputs": [
    {
     "data": {
      "text/plain": [
       "8"
      ]
     },
     "execution_count": 83,
     "metadata": {},
     "output_type": "execute_result"
    }
   ],
   "source": [
    "np.power(2,3)"
   ]
  },
  {
   "cell_type": "code",
   "execution_count": 86,
   "id": "c934ce51",
   "metadata": {},
   "outputs": [
    {
     "data": {
      "text/plain": [
       "2"
      ]
     },
     "execution_count": 86,
     "metadata": {},
     "output_type": "execute_result"
    }
   ],
   "source": [
    "np.mod(11,3)"
   ]
  },
  {
   "cell_type": "code",
   "execution_count": 84,
   "id": "ab2e281b",
   "metadata": {},
   "outputs": [
    {
     "data": {
      "text/plain": [
       "3.0"
      ]
     },
     "execution_count": 84,
     "metadata": {},
     "output_type": "execute_result"
    }
   ],
   "source": [
    "np.sqrt(9)"
   ]
  }
 ],
 "metadata": {
  "kernelspec": {
   "display_name": "Python 3 (ipykernel)",
   "language": "python",
   "name": "python3"
  },
  "language_info": {
   "codemirror_mode": {
    "name": "ipython",
    "version": 3
   },
   "file_extension": ".py",
   "mimetype": "text/x-python",
   "name": "python",
   "nbconvert_exporter": "python",
   "pygments_lexer": "ipython3",
   "version": "3.11.2"
  }
 },
 "nbformat": 4,
 "nbformat_minor": 5
}
