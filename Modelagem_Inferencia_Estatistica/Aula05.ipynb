{
 "cells": [
  {
   "cell_type": "markdown",
   "metadata": {},
   "source": [
    "#### Aula 05 - Modelo Logístico"
   ]
  },
  {
   "cell_type": "code",
   "execution_count": 66,
   "metadata": {},
   "outputs": [],
   "source": [
    "import numpy as np\n",
    "import pandas as pd\n",
    "import matplotlib.pyplot as plt\n",
    "import statsmodels.api as sm\n",
    "from statsmodels.formula.api import ols\n",
    "import scipy.stats as stats\n",
    "import seaborn as sns\n",
    "from statsmodels.graphics.gofplots import ProbPlot"
   ]
  },
  {
   "cell_type": "code",
   "execution_count": 67,
   "metadata": {},
   "outputs": [
    {
     "data": {
      "text/html": [
       "<div>\n",
       "<style scoped>\n",
       "    .dataframe tbody tr th:only-of-type {\n",
       "        vertical-align: middle;\n",
       "    }\n",
       "\n",
       "    .dataframe tbody tr th {\n",
       "        vertical-align: top;\n",
       "    }\n",
       "\n",
       "    .dataframe thead th {\n",
       "        text-align: right;\n",
       "    }\n",
       "</style>\n",
       "<table border=\"1\" class=\"dataframe\">\n",
       "  <thead>\n",
       "    <tr style=\"text-align: right;\">\n",
       "      <th></th>\n",
       "      <th>x</th>\n",
       "      <th>y</th>\n",
       "    </tr>\n",
       "  </thead>\n",
       "  <tbody>\n",
       "    <tr>\n",
       "      <th>0</th>\n",
       "      <td>12</td>\n",
       "      <td>1</td>\n",
       "    </tr>\n",
       "    <tr>\n",
       "      <th>1</th>\n",
       "      <td>15</td>\n",
       "      <td>1</td>\n",
       "    </tr>\n",
       "    <tr>\n",
       "      <th>2</th>\n",
       "      <td>42</td>\n",
       "      <td>1</td>\n",
       "    </tr>\n",
       "    <tr>\n",
       "      <th>3</th>\n",
       "      <td>52</td>\n",
       "      <td>1</td>\n",
       "    </tr>\n",
       "    <tr>\n",
       "      <th>4</th>\n",
       "      <td>59</td>\n",
       "      <td>1</td>\n",
       "    </tr>\n",
       "  </tbody>\n",
       "</table>\n",
       "</div>"
      ],
      "text/plain": [
       "    x  y\n",
       "0  12  1\n",
       "1  15  1\n",
       "2  42  1\n",
       "3  52  1\n",
       "4  59  1"
      ]
     },
     "execution_count": 67,
     "metadata": {},
     "output_type": "execute_result"
    }
   ],
   "source": [
    "lstx = (12,15,42,52,59,73,82,91,96,105,114,120,121,128,130,\n",
    "        139,139,157,1,1,2,8,11,18,22,31,37,61,72,81,97,112,\n",
    "        118,127,131,140,151,159,177,206)\n",
    "lsty= (1,1,1,1,1,1,1,1,1,1,1,1,1,1,1,1,1,1,0,0,0,0,0,0,0,0,\n",
    "       0,0,0,0,0,0,0,0,0,0,0,0,0,0)\n",
    "df = pd.DataFrame({'x':lstx,'y':lsty})\n",
    "x = df['x']\n",
    "y = df['y']\n",
    "df.head()"
   ]
  },
  {
   "cell_type": "code",
   "execution_count": 68,
   "metadata": {},
   "outputs": [
    {
     "data": {
      "image/png": "[encoded data removed]",
      "text/plain": [
       "<Figure size 640x480 with 1 Axes>"
      ]
     },
     "metadata": {},
     "output_type": "display_data"
    }
   ],
   "source": [
    "plt.scatter(x,y)\n",
    "plt.show()"
   ]
  },
  {
   "cell_type": "code",
   "execution_count": 69,
   "metadata": {},
   "outputs": [
    {
     "name": "stdout",
     "output_type": "stream",
     "text": [
      "Optimization terminated successfully.\n",
      "         Current function value: 0.681303\n",
      "         Iterations 4\n",
      "                           Logit Regression Results                           \n",
      "==============================================================================\n",
      "Dep. Variable:                      y   No. Observations:                   40\n",
      "Model:                          Logit   Df Residuals:                       38\n",
      "Method:                           MLE   Df Model:                            1\n",
      "Date:                Wed, 06 Sep 2023   Pseudo R-squ.:                0.009934\n",
      "Time:                        22:05:40   Log-Likelihood:                -27.252\n",
      "converged:                       True   LL-Null:                       -27.526\n",
      "Covariance Type:            nonrobust   LLR p-value:                    0.4596\n",
      "==============================================================================\n",
      "                 coef    std err          z      P>|z|      [0.025      0.975]\n",
      "------------------------------------------------------------------------------\n",
      "const         -0.5727      0.602     -0.951      0.342      -1.753       0.608\n",
      "x              0.0043      0.006      0.734      0.463      -0.007       0.016\n",
      "==============================================================================\n"
     ]
    }
   ],
   "source": [
    "x_pred = sm.add_constant(x)\n",
    "model = sm.Logit(y, x_pred).fit()\n",
    "print(model.summary())"
   ]
  },
  {
   "cell_type": "code",
   "execution_count": 70,
   "metadata": {},
   "outputs": [
    {
     "data": {
      "text/plain": [
       "<matplotlib.collections.PathCollection at 0x1dab76de650>"
      ]
     },
     "execution_count": 70,
     "metadata": {},
     "output_type": "execute_result"
    },
    {
     "data": {
      "image/png": "[encoded data removed]",
      "text/plain": [
       "<Figure size 640x480 with 1 Axes>"
      ]
     },
     "metadata": {},
     "output_type": "display_data"
    }
   ],
   "source": [
    "x_teste = np.linspace(-2000, 2000, 500)\n",
    "y_prob = model.predict(sm.add_constant(x_teste))\n",
    "plt.scatter(x_teste, y_prob)"
   ]
  },
  {
   "cell_type": "code",
   "execution_count": 71,
   "metadata": {},
   "outputs": [
    {
     "name": "stdout",
     "output_type": "stream",
     "text": [
      "y =  -0.5726931061206104 + 0.0042957872624721635 * x\n",
      "H0: beta_1 = 0\n",
      "H1: beta_1 != 0\n"
     ]
    }
   ],
   "source": [
    "# Realizar teste de hipótese\n",
    "n = len(df)\n",
    "k = 2\n",
    "gl = n-k\n",
    "beta_0 = model.params[0]\n",
    "beta_1 = model.params[1]\n",
    "print('y = ', beta_0,'+', beta_1,'* x')\n",
    "print('H0: beta_1 = 0')\n",
    "print('H1: beta_1 != 0')"
   ]
  },
  {
   "cell_type": "code",
   "execution_count": 72,
   "metadata": {},
   "outputs": [
    {
     "name": "stdout",
     "output_type": "stream",
     "text": [
      "t_critico =  2.024394164575136\n",
      "t_atual =  0.7344029072729139\n",
      "Como t_atual < t_critico, então não rejeitamos H0\n"
     ]
    }
   ],
   "source": [
    "t_crit = stats.t.ppf(0.975, df=gl)\n",
    "print('t_critico = ', t_crit)\n",
    "t_atual = beta_1/model.bse[1]\n",
    "print('t_atual = ', t_atual)\n",
    "print('Como t_atual < t_critico, então não rejeitamos H0')"
   ]
  },
  {
   "cell_type": "code",
   "execution_count": 73,
   "metadata": {},
   "outputs": [
    {
     "name": "stdout",
     "output_type": "stream",
     "text": [
      "p_valor =  46.721106916226596 %\n",
      "Como p_valor > alpha (5%), então não rejeitamos H0\n"
     ]
    }
   ],
   "source": [
    "p_val = (1 - stats.t.cdf(abs(t_atual), df=gl)) * 2\n",
    "print('p_valor = ', p_val*100, '%')\n",
    "print('Como p_valor > alpha (5%), então não rejeitamos H0')"
   ]
  },
  {
   "cell_type": "code",
   "execution_count": 74,
   "metadata": {},
   "outputs": [
    {
     "data": {
      "text/html": [
       "<div>\n",
       "<style scoped>\n",
       "    .dataframe tbody tr th:only-of-type {\n",
       "        vertical-align: middle;\n",
       "    }\n",
       "\n",
       "    .dataframe tbody tr th {\n",
       "        vertical-align: top;\n",
       "    }\n",
       "\n",
       "    .dataframe thead th {\n",
       "        text-align: right;\n",
       "    }\n",
       "</style>\n",
       "<table border=\"1\" class=\"dataframe\">\n",
       "  <thead>\n",
       "    <tr style=\"text-align: right;\">\n",
       "      <th></th>\n",
       "      <th>x</th>\n",
       "      <th>y</th>\n",
       "    </tr>\n",
       "  </thead>\n",
       "  <tbody>\n",
       "    <tr>\n",
       "      <th>0</th>\n",
       "      <td>55.3</td>\n",
       "      <td>1</td>\n",
       "    </tr>\n",
       "    <tr>\n",
       "      <th>1</th>\n",
       "      <td>55.3</td>\n",
       "      <td>1</td>\n",
       "    </tr>\n",
       "    <tr>\n",
       "      <th>2</th>\n",
       "      <td>55.3</td>\n",
       "      <td>1</td>\n",
       "    </tr>\n",
       "    <tr>\n",
       "      <th>3</th>\n",
       "      <td>55.9</td>\n",
       "      <td>1</td>\n",
       "    </tr>\n",
       "    <tr>\n",
       "      <th>4</th>\n",
       "      <td>55.9</td>\n",
       "      <td>1</td>\n",
       "    </tr>\n",
       "  </tbody>\n",
       "</table>\n",
       "</div>"
      ],
      "text/plain": [
       "      x  y\n",
       "0  55.3  1\n",
       "1  55.3  1\n",
       "2  55.3  1\n",
       "3  55.9  1\n",
       "4  55.9  1"
      ]
     },
     "execution_count": 74,
     "metadata": {},
     "output_type": "execute_result"
    }
   ],
   "source": [
    "lstxr = (55.3,55.3,55.3,55.9,55.9,55.9,55.9,56.1,56.1,56.1,56.1,56.1,56.1,56.8,\n",
    "        56.8,57.0,57.0,57.0,57.8,57.8,57.8,57.9,57.9,57.9,58.8,58.8,58.8,59.8,\n",
    "        59.8,59.8,62.2,62.2,65.3,65.3,65.3,65.3,68.7,69.0,73.0,73.0,63.8,63.8,\n",
    "        63.8,63.9,63.9,63.9,64.7,64.7,64.7,65.1,65.1,65.1,67.4,67.4,67.4,67.4,\n",
    "        68.7,68.7,68.7,70.4,70.4,71.2,71.2,73.1,73.1,74.6,74.6,74.6,74.6,79.3,\n",
    "        79.3,79.3,79.3,79.3,83.0,83.0,83.0)\n",
    "lstyr= (1,1,1,1,1,1,1,1,1,1,1,1,1,1,1,1,1,1,1,1,1,1,1,1,1,1,1,1,1,1,1,1,1,1,1,\n",
    "        1,1,1,1,1,0,0,0,0,0,0,0,0,0,0,0,0,0,0,0,0,0,0,0,0,0,0,0,0,0,0,0,0,0,0,\n",
    "        0,0,0,0,0,0,0)\n",
    "df_2 = pd.DataFrame({'x':lstxr,'y':lstyr})\n",
    "x_2 = df_2['x']\n",
    "y_2 = df_2['y']\n",
    "df_2.head()"
   ]
  },
  {
   "cell_type": "code",
   "execution_count": 75,
   "metadata": {},
   "outputs": [
    {
     "data": {
      "text/plain": [
       "<matplotlib.collections.PathCollection at 0x1dab75f6450>"
      ]
     },
     "execution_count": 75,
     "metadata": {},
     "output_type": "execute_result"
    },
    {
     "data": {
      "image/png": "[encoded data removed]",
      "text/plain": [
       "<Figure size 640x480 with 1 Axes>"
      ]
     },
     "metadata": {},
     "output_type": "display_data"
    }
   ],
   "source": [
    "plt.scatter(x_2,y_2)"
   ]
  },
  {
   "cell_type": "code",
   "execution_count": 76,
   "metadata": {},
   "outputs": [
    {
     "name": "stdout",
     "output_type": "stream",
     "text": [
      "Optimization terminated successfully.\n",
      "         Current function value: 0.353003\n",
      "         Iterations 7\n",
      "                           Logit Regression Results                           \n",
      "==============================================================================\n",
      "Dep. Variable:                      y   No. Observations:                   77\n",
      "Model:                          Logit   Df Residuals:                       75\n",
      "Method:                           MLE   Df Model:                            1\n",
      "Date:                Wed, 06 Sep 2023   Pseudo R-squ.:                  0.4902\n",
      "Time:                        22:05:42   Log-Likelihood:                -27.181\n",
      "converged:                       True   LL-Null:                       -53.314\n",
      "Covariance Type:            nonrobust   LLR p-value:                 4.849e-13\n",
      "==============================================================================\n",
      "                 coef    std err          z      P>|z|      [0.025      0.975]\n",
      "------------------------------------------------------------------------------\n",
      "const         23.0140      5.041      4.565      0.000      13.133      32.895\n",
      "x             -0.3562      0.078     -4.543      0.000      -0.510      -0.203\n",
      "==============================================================================\n"
     ]
    }
   ],
   "source": [
    "x_pred_2 = sm.add_constant(x_2)\n",
    "model_2 = sm.Logit(y_2, x_pred_2).fit()\n",
    "print(model_2.summary())"
   ]
  },
  {
   "cell_type": "code",
   "execution_count": 77,
   "metadata": {},
   "outputs": [
    {
     "data": {
      "image/png": "[encoded data removed]",
      "text/plain": [
       "<Figure size 640x480 with 1 Axes>"
      ]
     },
     "metadata": {},
     "output_type": "display_data"
    }
   ],
   "source": [
    "y_prob_2 = model_2.predict(sm.add_constant(x_2))\n",
    "y_prob_around_2 = np.around(y_prob_2)\n",
    "plt.scatter(x_2, y_2, label = 'Real')\n",
    "plt.scatter(x_2, y_prob_2, label = 'Predito')\n",
    "plt.scatter(x_2, y_prob_around_2, label = 'Predito Arredondado', marker = 'x', alpha=0.5)\n",
    "plt.legend()\n",
    "plt.show()"
   ]
  },
  {
   "cell_type": "code",
   "execution_count": 78,
   "metadata": {},
   "outputs": [
    {
     "name": "stdout",
     "output_type": "stream",
     "text": [
      "y =  23.01400401177244 + -0.3562026281870188 * x\n"
     ]
    }
   ],
   "source": [
    "n_2 = len(df_2)\n",
    "k_2 = 2\n",
    "gl_2 = n_2-k_2\n",
    "beta_0_2 = model_2.params[0]\n",
    "beta_1_2 = model_2.params[1]\n",
    "print('y = ', beta_0_2,'+', beta_1_2,'* x')"
   ]
  },
  {
   "cell_type": "code",
   "execution_count": 79,
   "metadata": {},
   "outputs": [
    {
     "name": "stdout",
     "output_type": "stream",
     "text": [
      "t_critico =  1.9921021536898653\n",
      "t_atual =  -4.54319636419011\n",
      "Como t_atual > t_critico, então rejeitamos H0\n"
     ]
    }
   ],
   "source": [
    "t_crit_2 = stats.t.ppf(0.975, df=gl_2)\n",
    "print('t_critico = ', t_crit_2)\n",
    "t_atual_2 = beta_1_2/model_2.bse[1]\n",
    "print('t_atual = ', t_atual_2)\n",
    "print('Como t_atual > t_critico, então rejeitamos H0')"
   ]
  },
  {
   "cell_type": "code",
   "execution_count": 80,
   "metadata": {},
   "outputs": [
    {
     "name": "stdout",
     "output_type": "stream",
     "text": [
      "p_valor =  0.002080072759658158 %\n",
      "Como p_valor < alpha (5%), então rejeitamos H0\n"
     ]
    }
   ],
   "source": [
    "p_val_2 = (1 - stats.t.cdf(abs(t_atual_2), df=gl_2)) * 2\n",
    "print('p_valor = ', p_val_2*100, '%')\n",
    "print('Como p_valor < alpha (5%), então rejeitamos H0')"
   ]
  },
  {
   "cell_type": "code",
   "execution_count": 81,
   "metadata": {},
   "outputs": [
    {
     "name": "stdout",
     "output_type": "stream",
     "text": [
      "Razão das chances =  0.7003306991172529\n"
     ]
    }
   ],
   "source": [
    "print('Razão das chances = ', np.exp(beta_1_2))"
   ]
  },
  {
   "cell_type": "markdown",
   "metadata": {},
   "source": [
    "#### Aula 05 - Modelo Polinomial"
   ]
  },
  {
   "cell_type": "code",
   "execution_count": 90,
   "metadata": {},
   "outputs": [
    {
     "name": "stdout",
     "output_type": "stream",
     "text": [
      "x_medio =  14.9\n"
     ]
    },
    {
     "data": {
      "text/html": [
       "<div>\n",
       "<style scoped>\n",
       "    .dataframe tbody tr th:only-of-type {\n",
       "        vertical-align: middle;\n",
       "    }\n",
       "\n",
       "    .dataframe tbody tr th {\n",
       "        vertical-align: top;\n",
       "    }\n",
       "\n",
       "    .dataframe thead th {\n",
       "        text-align: right;\n",
       "    }\n",
       "</style>\n",
       "<table border=\"1\" class=\"dataframe\">\n",
       "  <thead>\n",
       "    <tr style=\"text-align: right;\">\n",
       "      <th></th>\n",
       "      <th>x</th>\n",
       "      <th>y</th>\n",
       "    </tr>\n",
       "  </thead>\n",
       "  <tbody>\n",
       "    <tr>\n",
       "      <th>0</th>\n",
       "      <td>7.0</td>\n",
       "      <td>479</td>\n",
       "    </tr>\n",
       "    <tr>\n",
       "      <th>1</th>\n",
       "      <td>10.3</td>\n",
       "      <td>503</td>\n",
       "    </tr>\n",
       "    <tr>\n",
       "      <th>2</th>\n",
       "      <td>13.7</td>\n",
       "      <td>487</td>\n",
       "    </tr>\n",
       "    <tr>\n",
       "      <th>3</th>\n",
       "      <td>16.6</td>\n",
       "      <td>470</td>\n",
       "    </tr>\n",
       "    <tr>\n",
       "      <th>4</th>\n",
       "      <td>19.8</td>\n",
       "      <td>458</td>\n",
       "    </tr>\n",
       "    <tr>\n",
       "      <th>5</th>\n",
       "      <td>22.0</td>\n",
       "      <td>412</td>\n",
       "    </tr>\n",
       "  </tbody>\n",
       "</table>\n",
       "</div>"
      ],
      "text/plain": [
       "      x    y\n",
       "0   7.0  479\n",
       "1  10.3  503\n",
       "2  13.7  487\n",
       "3  16.6  470\n",
       "4  19.8  458\n",
       "5  22.0  412"
      ]
     },
     "execution_count": 90,
     "metadata": {},
     "output_type": "execute_result"
    }
   ],
   "source": [
    "lstx = (7,10.3,13.7,16.6,19.8,22)\n",
    "lsty= (479,503,487,470,458,412)\n",
    "df = pd.DataFrame({'x':lstx,'y':lsty})\n",
    "x = df['x']\n",
    "x_medio = np.mean(x)\n",
    "print('x_medio = ', x_medio)\n",
    "x_linha = x - x_medio\n",
    "y = df['y']\n",
    "df"
   ]
  },
  {
   "cell_type": "code",
   "execution_count": 85,
   "metadata": {},
   "outputs": [
    {
     "data": {
      "image/png": "[encoded data removed]",
      "text/plain": [
       "<Figure size 640x480 with 1 Axes>"
      ]
     },
     "metadata": {},
     "output_type": "display_data"
    }
   ],
   "source": [
    "plt.scatter(x,y)\n",
    "plt.grid()\n",
    "plt.show()"
   ]
  },
  {
   "cell_type": "code",
   "execution_count": 86,
   "metadata": {},
   "outputs": [
    {
     "name": "stdout",
     "output_type": "stream",
     "text": [
      "                            OLS Regression Results                            \n",
      "==============================================================================\n",
      "Dep. Variable:                      y   R-squared:                       0.635\n",
      "Model:                            OLS   Adj. R-squared:                  0.543\n",
      "Method:                 Least Squares   F-statistic:                     6.950\n",
      "Date:                Wed, 06 Sep 2023   Prob (F-statistic):             0.0578\n",
      "Time:                        22:14:54   Log-Likelihood:                -25.637\n",
      "No. Observations:                   6   AIC:                             55.27\n",
      "Df Residuals:                       4   BIC:                             54.86\n",
      "Df Model:                           1                                         \n",
      "Covariance Type:            nonrobust                                         \n",
      "==============================================================================\n",
      "                 coef    std err          t      P>|t|      [0.025      0.975]\n",
      "------------------------------------------------------------------------------\n",
      "const        533.6984     26.328     20.271      0.000     460.600     606.797\n",
      "x             -4.3981      1.668     -2.636      0.058      -9.030       0.234\n",
      "==============================================================================\n",
      "Omnibus:                          nan   Durbin-Watson:                   1.564\n",
      "Prob(Omnibus):                    nan   Jarque-Bera (JB):                1.022\n",
      "Skew:                          -0.679   Prob(JB):                        0.600\n",
      "Kurtosis:                       1.502   Cond. No.                         48.1\n",
      "==============================================================================\n",
      "\n",
      "Notes:\n",
      "[1] Standard Errors assume that the covariance matrix of the errors is correctly specified.\n"
     ]
    },
    {
     "name": "stderr",
     "output_type": "stream",
     "text": [
      "c:\\Users\\gusta\\univesp_disciplinas\\.venv\\Lib\\site-packages\\statsmodels\\stats\\stattools.py:74: ValueWarning: omni_normtest is not valid with less than 8 observations; 6 samples were given.\n",
      "  warn(\"omni_normtest is not valid with less than 8 observations; %i \"\n"
     ]
    }
   ],
   "source": [
    "# Regressão polinomial\n",
    "x_pred = sm.add_constant(x)\n",
    "model = sm.OLS(y, x_pred).fit()\n",
    "print(model.summary())"
   ]
  },
  {
   "cell_type": "code",
   "execution_count": 94,
   "metadata": {},
   "outputs": [
    {
     "data": {
      "image/png": "[encoded data removed]",
      "text/plain": [
       "<Figure size 640x480 with 1 Axes>"
      ]
     },
     "metadata": {},
     "output_type": "display_data"
    }
   ],
   "source": [
    "plt.scatter(x,y)\n",
    "plt.plot(x, model.predict(x_pred), color='red')\n",
    "plt.grid()\n",
    "plt.show()"
   ]
  },
  {
   "cell_type": "code",
   "execution_count": 99,
   "metadata": {},
   "outputs": [
    {
     "data": {
      "text/plain": [
       "(6, 6)"
      ]
     },
     "execution_count": 99,
     "metadata": {},
     "output_type": "execute_result"
    }
   ],
   "source": [
    "from sklearn.preprocessing import PolynomialFeatures\n",
    "polynomial_features= PolynomialFeatures(degree=2)\n",
    "x_poly = polynomial_features.fit_transform(x_pred)\n",
    "x_poly.shape"
   ]
  },
  {
   "cell_type": "code",
   "execution_count": 100,
   "metadata": {},
   "outputs": [
    {
     "data": {
      "text/plain": [
       "array([[  1.  ,   1.  ,   7.  ,   1.  ,   7.  ,  49.  ],\n",
       "       [  1.  ,   1.  ,  10.3 ,   1.  ,  10.3 , 106.09],\n",
       "       [  1.  ,   1.  ,  13.7 ,   1.  ,  13.7 , 187.69],\n",
       "       [  1.  ,   1.  ,  16.6 ,   1.  ,  16.6 , 275.56],\n",
       "       [  1.  ,   1.  ,  19.8 ,   1.  ,  19.8 , 392.04],\n",
       "       [  1.  ,   1.  ,  22.  ,   1.  ,  22.  , 484.  ]])"
      ]
     },
     "execution_count": 100,
     "metadata": {},
     "output_type": "execute_result"
    }
   ],
   "source": [
    "x_poly"
   ]
  },
  {
   "cell_type": "code",
   "execution_count": 101,
   "metadata": {},
   "outputs": [
    {
     "data": {
      "text/plain": [
       "array([[  1.  ,   7.  ,  49.  ],\n",
       "       [  1.  ,  10.3 , 106.09],\n",
       "       [  1.  ,  13.7 , 187.69],\n",
       "       [  1.  ,  16.6 , 275.56],\n",
       "       [  1.  ,  19.8 , 392.04],\n",
       "       [  1.  ,  22.  , 484.  ]])"
      ]
     },
     "execution_count": 101,
     "metadata": {},
     "output_type": "execute_result"
    }
   ],
   "source": [
    "x_poly[:,3:6]"
   ]
  },
  {
   "cell_type": "code",
   "execution_count": 103,
   "metadata": {},
   "outputs": [
    {
     "name": "stdout",
     "output_type": "stream",
     "text": [
      "                            OLS Regression Results                            \n",
      "==============================================================================\n",
      "Dep. Variable:                      y   R-squared:                       0.938\n",
      "Model:                            OLS   Adj. R-squared:                  0.896\n",
      "Method:                 Least Squares   F-statistic:                     22.51\n",
      "Date:                Wed, 06 Sep 2023   Prob (F-statistic):             0.0156\n",
      "Time:                        22:36:37   Log-Likelihood:                -20.339\n",
      "No. Observations:                   6   AIC:                             46.68\n",
      "Df Residuals:                       3   BIC:                             46.05\n",
      "Df Model:                           2                                         \n",
      "Covariance Type:            nonrobust                                         \n",
      "==============================================================================\n",
      "                 coef    std err          t      P>|t|      [0.025      0.975]\n",
      "------------------------------------------------------------------------------\n",
      "const        403.2396     36.453     11.062      0.002     287.230     519.249\n",
      "x1            16.1636      5.451      2.965      0.059      -1.185      33.512\n",
      "x2            -0.7063      0.185     -3.813      0.032      -1.296      -0.117\n",
      "==============================================================================\n",
      "Omnibus:                          nan   Durbin-Watson:                   2.980\n",
      "Prob(Omnibus):                    nan   Jarque-Bera (JB):                0.911\n",
      "Skew:                           0.679   Prob(JB):                        0.634\n",
      "Kurtosis:                       1.658   Cond. No.                     2.60e+03\n",
      "==============================================================================\n",
      "\n",
      "Notes:\n",
      "[1] Standard Errors assume that the covariance matrix of the errors is correctly specified.\n",
      "[2] The condition number is large, 2.6e+03. This might indicate that there are\n",
      "strong multicollinearity or other numerical problems.\n"
     ]
    },
    {
     "name": "stderr",
     "output_type": "stream",
     "text": [
      "c:\\Users\\gusta\\univesp_disciplinas\\.venv\\Lib\\site-packages\\statsmodels\\stats\\stattools.py:74: ValueWarning: omni_normtest is not valid with less than 8 observations; 6 samples were given.\n",
      "  warn(\"omni_normtest is not valid with less than 8 observations; %i \"\n"
     ]
    }
   ],
   "source": [
    "model_poly = sm.OLS(y, x_poly[:,3:6]).fit()\n",
    "y_pred_poly = model_poly.predict(x_poly[:,3:6])\n",
    "print(model_poly.summary())"
   ]
  },
  {
   "cell_type": "code",
   "execution_count": 104,
   "metadata": {},
   "outputs": [
    {
     "data": {
      "image/png": "[encoded data removed]",
      "text/plain": [
       "<Figure size 640x480 with 1 Axes>"
      ]
     },
     "metadata": {},
     "output_type": "display_data"
    }
   ],
   "source": [
    "plt.scatter(x,y)\n",
    "plt.plot(x, y_pred_poly, color='red')\n",
    "plt.grid()\n",
    "plt.show()"
   ]
  },
  {
   "cell_type": "code",
   "execution_count": 125,
   "metadata": {},
   "outputs": [
    {
     "name": "stdout",
     "output_type": "stream",
     "text": [
      "SQE =  309.10898960299943\n",
      "SQT =  4946.833333333333\n",
      "SQR =  4637.724343730333\n",
      "Coeficiente de determinação (R2) = 0.9375137651151243\n",
      "k =  2.0\n",
      "n =  6.0\n",
      "Coeficiente de determinação ajustado (R2adj) = 0.8958562751918739\n",
      "s2 =  103.03632986766648\n",
      "s =  10.150681251407045\n"
     ]
    }
   ],
   "source": [
    "SQE = np.sum((y - y_pred_poly)**2)\n",
    "print('SQE = ', SQE)\n",
    "\n",
    "SQT = np.sum((y - np.mean(y))**2)\n",
    "print('SQT = ', SQT)\n",
    "\n",
    "SQR = SQT - SQE\n",
    "print('SQR = ', SQR)\n",
    "\n",
    "R2 = 1 - SQE/SQT\n",
    "print('Coeficiente de determinação (R2) =', R2)\n",
    "\n",
    "k = model_poly.df_model \n",
    "print('k = ', k)\n",
    "n = model_poly.nobs\n",
    "print('n = ', n)\n",
    "R2adj = ((n-1)*R2 - k)/(n-k-1)\n",
    "print('Coeficiente de determinação ajustado (R2adj) =', R2adj)\n",
    "\n",
    "s2 = SQE/(n-k-1)\n",
    "print('s2 = ', s2)\n",
    "s = np.sqrt(s2)\n",
    "print('s = ', s)"
   ]
  },
  {
   "cell_type": "code",
   "execution_count": 121,
   "metadata": {},
   "outputs": [
    {
     "name": "stdout",
     "output_type": "stream",
     "text": [
      "gl =  3.0\n",
      "t_critico =  5.84090929975643\n"
     ]
    }
   ],
   "source": [
    "gl = n-(k+1)\n",
    "print('gl = ', gl)\n",
    "t_crit = stats.t.ppf(0.995, df=gl)\n",
    "print('t_critico = ', t_crit)"
   ]
  },
  {
   "cell_type": "code",
   "execution_count": 128,
   "metadata": {},
   "outputs": [
    {
     "name": "stdout",
     "output_type": "stream",
     "text": [
      "y_14 =  491.0975487168419\n",
      "y_14_pred =  [491.09754872]\n"
     ]
    }
   ],
   "source": [
    "y_14 = model_poly.params[0] + model_poly.params[1]*14 + model_poly.params[2]*14**2\n",
    "print('y_14 = ', y_14)\n",
    "y_14_pred = model_poly.predict([1,14,196])\n",
    "print('y_14_pred = ', y_14_pred)"
   ]
  },
  {
   "cell_type": "code",
   "execution_count": 131,
   "metadata": {},
   "outputs": [
    {
     "name": "stdout",
     "output_type": "stream",
     "text": [
      "erro_y =  70.371790555333\n",
      "Intervalo de predição = [ 420.7257581615089 , 561.4693392721749 ]\n"
     ]
    }
   ],
   "source": [
    "s_y_14 = 6.49 # dado no enunciado\n",
    "erro_y = t_crit * np.sqrt(s**2 + s_y_14**2)\n",
    "print('erro_y = ', erro_y)\n",
    "print('Intervalo de predição = [', y_14 - erro_y, ',', y_14 + erro_y, ']')"
   ]
  },
  {
   "cell_type": "code",
   "execution_count": 135,
   "metadata": {},
   "outputs": [
    {
     "data": {
      "image/png": "[encoded data removed]",
      "text/plain": [
       "<Figure size 640x480 with 1 Axes>"
      ]
     },
     "metadata": {},
     "output_type": "display_data"
    }
   ],
   "source": [
    "# Intervalo de predição\n",
    "from statsmodels.sandbox.regression.predstd import wls_prediction_std\n",
    "_, upper, lower = wls_prediction_std(model_poly, alpha=0.05)\n",
    "plt.scatter(x,y, color = 'red')\n",
    "plt.plot(x, y_pred_poly, color='blue', label = 'Predito')\n",
    "plt.plot(x, upper, '--',color='green', label = 'Maior')\n",
    "plt.plot(x, lower, '--',color='orange', label = 'Menor')\n",
    "plt.legend()\n",
    "plt.grid()\n",
    "plt.show()"
   ]
  },
  {
   "cell_type": "code",
   "execution_count": 137,
   "metadata": {},
   "outputs": [
    {
     "name": "stdout",
     "output_type": "stream",
     "text": [
      "t_atual =  -3.8128434002531923\n"
     ]
    }
   ],
   "source": [
    "beta_2 = model_poly.params[2]\n",
    "t_atual = beta_2/model_poly.bse[2]\n",
    "print('t_atual = ', t_atual)"
   ]
  },
  {
   "cell_type": "code",
   "execution_count": 138,
   "metadata": {},
   "outputs": [
    {
     "name": "stdout",
     "output_type": "stream",
     "text": [
      "t_beta_1 =  2.9651014305680152\n"
     ]
    }
   ],
   "source": [
    "beta_1 = model_poly.params[1]\n",
    "t_beta_1 = beta_1/model_poly.bse[1]\n",
    "print('t_beta_1 = ', t_beta_1)"
   ]
  },
  {
   "cell_type": "code",
   "execution_count": 139,
   "metadata": {},
   "outputs": [
    {
     "data": {
      "image/png": "[encoded data removed]",
      "text/plain": [
       "<Figure size 640x480 with 1 Axes>"
      ]
     },
     "metadata": {},
     "output_type": "display_data"
    }
   ],
   "source": [
    "lstx = (0.219, 0.730, 1.174, 1.490, 1.634, 2.109, 2.419, 2.764, 3.174)\n",
    "lsty = (0.132, 0.617, 0.979, 1.070, 1.112, 1.003, 0.679, 0.406, 0.021)\n",
    "# Construir o DataFrame e nomear as colunas\n",
    "df_ex2 = pd.DataFrame(list(zip(lstx, lsty)),\n",
    "columns =[\"x\",\"y\"])\n",
    "x=df_ex2['x']\n",
    "y=df_ex2['y']\n",
    "plt.scatter(x, y, color = \"m\", marker = \"o\", s = 30)\n",
    "plt.grid(True) "
   ]
  },
  {
   "cell_type": "code",
   "execution_count": 148,
   "metadata": {},
   "outputs": [
    {
     "name": "stdout",
     "output_type": "stream",
     "text": [
      "pi_chapeu =  0.9567233069145256\n"
     ]
    }
   ],
   "source": [
    "slope = 23.0140\n",
    "intercept = -0.3562\n",
    "x = 0.15\n",
    "equacao = np.exp(intercept + slope*x)\n",
    "pi_chapeu = equacao/(1+equacao)\n",
    "print('pi_chapeu = ', pi_chapeu)\n"
   ]
  }
 ],
 "metadata": {
  "kernelspec": {
   "display_name": ".venv",
   "language": "python",
   "name": "python3"
  },
  "language_info": {
   "codemirror_mode": {
    "name": "ipython",
    "version": 3
   },
   "file_extension": ".py",
   "mimetype": "text/x-python",
   "name": "python",
   "nbconvert_exporter": "python",
   "pygments_lexer": "ipython3",
   "version": "3.11.4"
  },
  "orig_nbformat": 4
 },
 "nbformat": 4,
 "nbformat_minor": 2
}
