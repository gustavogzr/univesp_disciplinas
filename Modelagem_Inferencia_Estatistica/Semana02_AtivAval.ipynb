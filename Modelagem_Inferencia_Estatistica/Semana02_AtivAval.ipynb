{
 "cells": [
  {
   "cell_type": "code",
   "execution_count": 1,
   "metadata": {},
   "outputs": [
    {
     "name": "stdout",
     "output_type": "stream",
     "text": [
      "Intervalo de Confiança: [ 0.9952910157657328 , 1.0067089842342671 ]\n",
      "Coeficiente de Determinação:  0.9546423611644835\n"
     ]
    }
   ],
   "source": [
    "# Modelagem de Exeercícios de Inferência Estatística\n",
    "\n",
    "# Equação da Reta: -0,9625 + 1,001 * x \n",
    "# Variância Estimada: 0,3022\n",
    "# S_xx = 40925,75\n",
    "\n",
    "import numpy as np\n",
    "import pandas as pd\n",
    "import scipy.stats as stats\n",
    "\n",
    "S_xx = 40925.75\n",
    "var_estimada = 0.3022\n",
    "n = 20\n",
    "t_student = stats.t.ppf(0.975, n-2)\n",
    "erro_beta_1 = (var_estimada / S_xx) ** 0.5\n",
    "\n",
    "print('Intervalo de Confiança: [', 1.001 - t_student * erro_beta_1, ',', 1.001 + t_student * erro_beta_1, ']')\n",
    "\n",
    "S_xx = 1585.2307\n",
    "S_yy = 77.2708\n",
    "S_xy = -341.9592\n",
    "beta_0 = 9.10099\n",
    "beta_1 = -0.21572\n",
    "\n",
    "# Calcular o coeficiente de determinação\n",
    "R_2 = (S_xy/np.sqrt(S_xx*S_yy))**2\n",
    "print('Coeficiente de Determinação: ', R_2)\n"
   ]
  },
  {
   "cell_type": "code",
   "execution_count": 19,
   "metadata": {},
   "outputs": [
    {
     "name": "stdout",
     "output_type": "stream",
     "text": [
      "0.1696526358629315 -12.231556513326428 0.671863451929129 0.0003239222949322486 0.03987456504080291\n",
      "Coeficiente de Determinação:  0.45140049803812504\n"
     ]
    }
   ],
   "source": [
    "# Exercicios de Inferência Estatística\n",
    "df = pd.read_csv('Semana02_AtivAval.csv', sep=';')\n",
    "df.head()\n",
    "slope, intercept, r_value, p_value, std_err = stats.linregress(df['Temp'],df['Taxa'])\n",
    "print(slope, intercept, r_value, p_value, std_err)\n",
    "print('Coeficiente de Determinação: ', r_value**2)"
   ]
  }
 ],
 "metadata": {
  "kernelspec": {
   "display_name": ".venv",
   "language": "python",
   "name": "python3"
  },
  "language_info": {
   "codemirror_mode": {
    "name": "ipython",
    "version": 3
   },
   "file_extension": ".py",
   "mimetype": "text/x-python",
   "name": "python",
   "nbconvert_exporter": "python",
   "pygments_lexer": "ipython3",
   "version": "3.11.4"
  },
  "orig_nbformat": 4
 },
 "nbformat": 4,
 "nbformat_minor": 2
}
