{
 "cells": [
  {
   "cell_type": "markdown",
   "metadata": {},
   "source": [
    "#### Aula 04"
   ]
  },
  {
   "cell_type": "code",
   "execution_count": 120,
   "metadata": {},
   "outputs": [
    {
     "name": "stdout",
     "output_type": "stream",
     "text": [
      "Bibliotecas importadas com sucesso!\n"
     ]
    }
   ],
   "source": [
    "import pandas as pd\n",
    "import numpy as np\n",
    "import matplotlib.pyplot as plt\n",
    "import seaborn as sns\n",
    "import scipy.stats as stats\n",
    "import statsmodels.api as sm\n",
    "from statsmodels.graphics.gofplots import ProbPlot\n",
    "from scipy.stats import t\n",
    "print(\"Bibliotecas importadas com sucesso!\")"
   ]
  },
  {
   "cell_type": "code",
   "execution_count": 80,
   "metadata": {},
   "outputs": [],
   "source": [
    "lstx2 = (100, 125, 125, 150, 150, 200, 200, 250, 250, 300, 300, 350, 400, 400)\n",
    "lsty2 = (150, 140, 180, 210, 190, 320, 280, 400, 430, 440, 390, 600, 610, 670)\n",
    "df = pd.DataFrame({'x': lstx2, 'y': lsty2})\n",
    "x = df['x']\n",
    "y = df['y']"
   ]
  },
  {
   "cell_type": "code",
   "execution_count": 81,
   "metadata": {},
   "outputs": [
    {
     "data": {
      "image/png": "[encoded data removed]",
      "text/plain": [
       "<Figure size 640x480 with 1 Axes>"
      ]
     },
     "metadata": {},
     "output_type": "display_data"
    }
   ],
   "source": [
    "plt.scatter(x, y, color='red')\n",
    "plt.show()"
   ]
  },
  {
   "cell_type": "code",
   "execution_count": 82,
   "metadata": {},
   "outputs": [
    {
     "name": "stdout",
     "output_type": "stream",
     "text": [
      "1.711432325886991 -45.551905387647935 0.9802441873958024 8.22629625660354e-10 0.09968771803103654\n"
     ]
    }
   ],
   "source": [
    "slope, intercept, r, p, std_err = stats.linregress(x, y)\n",
    "Sxx = ((df['x']-df['x'].mean())**2).sum()\n",
    "print(slope, intercept, r, p, std_err)"
   ]
  },
  {
   "cell_type": "code",
   "execution_count": 83,
   "metadata": {},
   "outputs": [
    {
     "name": "stdout",
     "output_type": "stream",
     "text": [
      "                            OLS Regression Results                            \n",
      "==============================================================================\n",
      "Dep. Variable:                      y   R-squared:                       0.961\n",
      "Model:                            OLS   Adj. R-squared:                  0.958\n",
      "Method:                 Least Squares   F-statistic:                     294.7\n",
      "Date:                Wed, 06 Sep 2023   Prob (F-statistic):           8.23e-10\n",
      "Time:                        01:46:57   Log-Likelihood:                -69.243\n",
      "No. Observations:                  14   AIC:                             142.5\n",
      "Df Residuals:                      12   BIC:                             143.8\n",
      "Df Model:                           1                                         \n",
      "Covariance Type:            nonrobust                                         \n",
      "==============================================================================\n",
      "                 coef    std err          t      P>|t|      [0.025      0.975]\n",
      "------------------------------------------------------------------------------\n",
      "const        -45.5519     25.468     -1.789      0.099    -101.041       9.938\n",
      "x              1.7114      0.100     17.168      0.000       1.494       1.929\n",
      "==============================================================================\n",
      "Omnibus:                        1.122   Durbin-Watson:                   2.691\n",
      "Prob(Omnibus):                  0.571   Jarque-Bera (JB):                0.665\n",
      "Skew:                          -0.512   Prob(JB):                        0.717\n",
      "Kurtosis:                       2.696   Cond. No.                         662.\n",
      "==============================================================================\n",
      "\n",
      "Notes:\n",
      "[1] Standard Errors assume that the covariance matrix of the errors is correctly specified.\n"
     ]
    },
    {
     "name": "stderr",
     "output_type": "stream",
     "text": [
      "c:\\Users\\gusta\\univesp_disciplinas\\.venv\\Lib\\site-packages\\scipy\\stats\\_stats_py.py:1806: UserWarning: kurtosistest only valid for n>=20 ... continuing anyway, n=14\n",
      "  warnings.warn(\"kurtosistest only valid for n>=20 ... continuing \"\n"
     ]
    }
   ],
   "source": [
    "x_pred = sm.add_constant(x)\n",
    "modelo = sm.OLS(y, x_pred).fit()\n",
    "print(modelo.summary())"
   ]
  },
  {
   "cell_type": "code",
   "execution_count": 84,
   "metadata": {},
   "outputs": [
    {
     "data": {
      "text/html": [
       "<div>\n",
       "<style scoped>\n",
       "    .dataframe tbody tr th:only-of-type {\n",
       "        vertical-align: middle;\n",
       "    }\n",
       "\n",
       "    .dataframe tbody tr th {\n",
       "        vertical-align: top;\n",
       "    }\n",
       "\n",
       "    .dataframe thead th {\n",
       "        text-align: right;\n",
       "    }\n",
       "</style>\n",
       "<table border=\"1\" class=\"dataframe\">\n",
       "  <thead>\n",
       "    <tr style=\"text-align: right;\">\n",
       "      <th></th>\n",
       "      <th>x</th>\n",
       "      <th>y</th>\n",
       "      <th>yp</th>\n",
       "      <th>e</th>\n",
       "      <th>residual_padronizado</th>\n",
       "      <th>e*</th>\n",
       "    </tr>\n",
       "  </thead>\n",
       "  <tbody>\n",
       "    <tr>\n",
       "      <th>0</th>\n",
       "      <td>100</td>\n",
       "      <td>150</td>\n",
       "      <td>125.591327</td>\n",
       "      <td>24.408673</td>\n",
       "      <td>0.691330</td>\n",
       "      <td>277.038835</td>\n",
       "    </tr>\n",
       "    <tr>\n",
       "      <th>1</th>\n",
       "      <td>125</td>\n",
       "      <td>140</td>\n",
       "      <td>168.377135</td>\n",
       "      <td>-28.377135</td>\n",
       "      <td>-0.803729</td>\n",
       "      <td>-313.122628</td>\n",
       "    </tr>\n",
       "    <tr>\n",
       "      <th>2</th>\n",
       "      <td>125</td>\n",
       "      <td>180</td>\n",
       "      <td>168.377135</td>\n",
       "      <td>11.622865</td>\n",
       "      <td>0.329196</td>\n",
       "      <td>128.250504</td>\n",
       "    </tr>\n",
       "    <tr>\n",
       "      <th>3</th>\n",
       "      <td>150</td>\n",
       "      <td>210</td>\n",
       "      <td>211.162943</td>\n",
       "      <td>-1.162943</td>\n",
       "      <td>-0.032938</td>\n",
       "      <td>-12.560635</td>\n",
       "    </tr>\n",
       "    <tr>\n",
       "      <th>4</th>\n",
       "      <td>150</td>\n",
       "      <td>190</td>\n",
       "      <td>211.162943</td>\n",
       "      <td>-21.162943</td>\n",
       "      <td>-0.599401</td>\n",
       "      <td>-228.575180</td>\n",
       "    </tr>\n",
       "    <tr>\n",
       "      <th>5</th>\n",
       "      <td>200</td>\n",
       "      <td>320</td>\n",
       "      <td>296.734560</td>\n",
       "      <td>23.265440</td>\n",
       "      <td>0.658950</td>\n",
       "      <td>245.018472</td>\n",
       "    </tr>\n",
       "    <tr>\n",
       "      <th>6</th>\n",
       "      <td>200</td>\n",
       "      <td>280</td>\n",
       "      <td>296.734560</td>\n",
       "      <td>-16.734560</td>\n",
       "      <td>-0.473975</td>\n",
       "      <td>-176.238929</td>\n",
       "    </tr>\n",
       "    <tr>\n",
       "      <th>7</th>\n",
       "      <td>250</td>\n",
       "      <td>400</td>\n",
       "      <td>382.306176</td>\n",
       "      <td>17.693824</td>\n",
       "      <td>0.501144</td>\n",
       "      <td>185.536933</td>\n",
       "    </tr>\n",
       "    <tr>\n",
       "      <th>8</th>\n",
       "      <td>250</td>\n",
       "      <td>430</td>\n",
       "      <td>382.306176</td>\n",
       "      <td>47.693824</td>\n",
       "      <td>1.350838</td>\n",
       "      <td>500.116077</td>\n",
       "    </tr>\n",
       "    <tr>\n",
       "      <th>9</th>\n",
       "      <td>300</td>\n",
       "      <td>440</td>\n",
       "      <td>467.877792</td>\n",
       "      <td>-27.877792</td>\n",
       "      <td>-0.789586</td>\n",
       "      <td>-297.055255</td>\n",
       "    </tr>\n",
       "    <tr>\n",
       "      <th>10</th>\n",
       "      <td>300</td>\n",
       "      <td>390</td>\n",
       "      <td>467.877792</td>\n",
       "      <td>-77.877792</td>\n",
       "      <td>-2.205742</td>\n",
       "      <td>-829.836422</td>\n",
       "    </tr>\n",
       "    <tr>\n",
       "      <th>11</th>\n",
       "      <td>350</td>\n",
       "      <td>600</td>\n",
       "      <td>553.449409</td>\n",
       "      <td>46.550591</td>\n",
       "      <td>1.318458</td>\n",
       "      <td>515.501998</td>\n",
       "    </tr>\n",
       "    <tr>\n",
       "      <th>12</th>\n",
       "      <td>400</td>\n",
       "      <td>610</td>\n",
       "      <td>639.021025</td>\n",
       "      <td>-29.021025</td>\n",
       "      <td>-0.821966</td>\n",
       "      <td>-343.551612</td>\n",
       "    </tr>\n",
       "    <tr>\n",
       "      <th>13</th>\n",
       "      <td>400</td>\n",
       "      <td>670</td>\n",
       "      <td>639.021025</td>\n",
       "      <td>30.978975</td>\n",
       "      <td>0.877421</td>\n",
       "      <td>366.729873</td>\n",
       "    </tr>\n",
       "  </tbody>\n",
       "</table>\n",
       "</div>"
      ],
      "text/plain": [
       "      x    y          yp          e  residual_padronizado          e*\n",
       "0   100  150  125.591327  24.408673              0.691330  277.038835\n",
       "1   125  140  168.377135 -28.377135             -0.803729 -313.122628\n",
       "2   125  180  168.377135  11.622865              0.329196  128.250504\n",
       "3   150  210  211.162943  -1.162943             -0.032938  -12.560635\n",
       "4   150  190  211.162943 -21.162943             -0.599401 -228.575180\n",
       "5   200  320  296.734560  23.265440              0.658950  245.018472\n",
       "6   200  280  296.734560 -16.734560             -0.473975 -176.238929\n",
       "7   250  400  382.306176  17.693824              0.501144  185.536933\n",
       "8   250  430  382.306176  47.693824              1.350838  500.116077\n",
       "9   300  440  467.877792 -27.877792             -0.789586 -297.055255\n",
       "10  300  390  467.877792 -77.877792             -2.205742 -829.836422\n",
       "11  350  600  553.449409  46.550591              1.318458  515.501998\n",
       "12  400  610  639.021025 -29.021025             -0.821966 -343.551612\n",
       "13  400  670  639.021025  30.978975              0.877421  366.729873"
      ]
     },
     "execution_count": 84,
     "metadata": {},
     "output_type": "execute_result"
    }
   ],
   "source": [
    "df['yp'] = x*slope + intercept # calcular y esperado\n",
    "df['e'] = df['y'] - df['yp'] # calcular o erro\n",
    "# calcular o erro padrão:\n",
    "# calcular residual padronizado:\n",
    "df['residual_padronizado'] = (df['e']-df['e'].mean())/df['e'].std()\n",
    "x_mean = df['x'].mean()\n",
    "df['e*'] = df['e']/(std_err*np.sqrt(1-1/(len(x)-2)-(df['x']-x_mean)**2/Sxx))\n",
    "\n",
    "df"
   ]
  },
  {
   "cell_type": "code",
   "execution_count": 85,
   "metadata": {},
   "outputs": [],
   "source": [
    "df_cars = pd.read_csv('carst.csv')\n",
    "df_cars_1 = df_cars[df_cars.Etype != 1]"
   ]
  },
  {
   "cell_type": "code",
   "execution_count": 86,
   "metadata": {},
   "outputs": [
    {
     "name": "stdout",
     "output_type": "stream",
     "text": [
      "                            OLS Regression Results                            \n",
      "==============================================================================\n",
      "Dep. Variable:                consumo   R-squared:                       0.834\n",
      "Model:                            OLS   Adj. R-squared:                  0.820\n",
      "Method:                 Least Squares   F-statistic:                     60.33\n",
      "Date:                Wed, 06 Sep 2023   Prob (F-statistic):           5.08e-06\n",
      "Time:                        01:46:57   Log-Likelihood:                -21.429\n",
      "No. Observations:                  14   AIC:                             46.86\n",
      "Df Residuals:                      12   BIC:                             48.14\n",
      "Df Model:                           1                                         \n",
      "Covariance Type:            nonrobust                                         \n",
      "==============================================================================\n",
      "                 coef    std err          t      P>|t|      [0.025      0.975]\n",
      "------------------------------------------------------------------------------\n",
      "const         11.9686      0.566     21.145      0.000      10.735      13.202\n",
      "cap_vol       -0.0013      0.000     -7.767      0.000      -0.002      -0.001\n",
      "==============================================================================\n",
      "Omnibus:                        1.442   Durbin-Watson:                   1.883\n",
      "Prob(Omnibus):                  0.486   Jarque-Bera (JB):                1.002\n",
      "Skew:                           0.615   Prob(JB):                        0.606\n",
      "Kurtosis:                       2.548   Cond. No.                     6.12e+03\n",
      "==============================================================================\n",
      "\n",
      "Notes:\n",
      "[1] Standard Errors assume that the covariance matrix of the errors is correctly specified.\n",
      "[2] The condition number is large, 6.12e+03. This might indicate that there are\n",
      "strong multicollinearity or other numerical problems.\n"
     ]
    },
    {
     "name": "stderr",
     "output_type": "stream",
     "text": [
      "c:\\Users\\gusta\\univesp_disciplinas\\.venv\\Lib\\site-packages\\scipy\\stats\\_stats_py.py:1806: UserWarning: kurtosistest only valid for n>=20 ... continuing anyway, n=14\n",
      "  warnings.warn(\"kurtosistest only valid for n>=20 ... continuing \"\n"
     ]
    }
   ],
   "source": [
    "x = df_cars_1['cap_vol']\n",
    "y = df_cars_1['consumo']\n",
    "x_pred = sm.add_constant(x)\n",
    "modelo = sm.OLS(y, x_pred).fit()\n",
    "print(modelo.summary())"
   ]
  },
  {
   "cell_type": "code",
   "execution_count": 93,
   "metadata": {},
   "outputs": [
    {
     "name": "stdout",
     "output_type": "stream",
     "text": [
      "y =  11.968578736702085  +  -0.0012593116220535798 x\n"
     ]
    }
   ],
   "source": [
    "b = modelo.params # interceptação e inclinação\n",
    "b0 = b[0]\n",
    "b1 = b[1]  \n",
    "print('y = ', b0, ' + ', b1, 'x')"
   ]
  },
  {
   "cell_type": "code",
   "execution_count": 94,
   "metadata": {},
   "outputs": [
    {
     "data": {
      "text/plain": [
       "[0.9233827492041637,\n",
       " -0.28198833644792975,\n",
       " 1.860422243074898,\n",
       " 0.04758365876519643,\n",
       " 0.4747162565491545,\n",
       " -1.048676545983168,\n",
       " 0.04004768395666143,\n",
       " -0.21744049449304717,\n",
       " -1.4571510025969494,\n",
       " -0.7246842987852639,\n",
       " -0.8310476590525756,\n",
       " -0.8214221417417785,\n",
       " 2.1190468773338376,\n",
       " 0.2324262991175103]"
      ]
     },
     "execution_count": 94,
     "metadata": {},
     "output_type": "execute_result"
    }
   ],
   "source": [
    "influence = modelo.get_influence()\n",
    "#obter residuos standardizados\n",
    "stdresid = list(influence.resid_studentized_internal)\n",
    "stdresid"
   ]
  },
  {
   "cell_type": "code",
   "execution_count": 95,
   "metadata": {},
   "outputs": [
    {
     "data": {
      "text/html": [
       "<div>\n",
       "<style scoped>\n",
       "    .dataframe tbody tr th:only-of-type {\n",
       "        vertical-align: middle;\n",
       "    }\n",
       "\n",
       "    .dataframe tbody tr th {\n",
       "        vertical-align: top;\n",
       "    }\n",
       "\n",
       "    .dataframe thead th {\n",
       "        text-align: right;\n",
       "    }\n",
       "</style>\n",
       "<table border=\"1\" class=\"dataframe\">\n",
       "  <thead>\n",
       "    <tr style=\"text-align: right;\">\n",
       "      <th></th>\n",
       "      <th>x</th>\n",
       "      <th>y</th>\n",
       "      <th>yp</th>\n",
       "      <th>e</th>\n",
       "      <th>e*</th>\n",
       "      <th>e/e*</th>\n",
       "    </tr>\n",
       "  </thead>\n",
       "  <tbody>\n",
       "    <tr>\n",
       "      <th>0</th>\n",
       "      <td>792</td>\n",
       "      <td>12.0</td>\n",
       "      <td>10.971204</td>\n",
       "      <td>1.028796</td>\n",
       "      <td>0.923383</td>\n",
       "      <td>1.114160</td>\n",
       "    </tr>\n",
       "    <tr>\n",
       "      <th>1</th>\n",
       "      <td>994</td>\n",
       "      <td>10.4</td>\n",
       "      <td>10.716823</td>\n",
       "      <td>-0.316823</td>\n",
       "      <td>-0.281988</td>\n",
       "      <td>1.123532</td>\n",
       "    </tr>\n",
       "    <tr>\n",
       "      <th>2</th>\n",
       "      <td>1000</td>\n",
       "      <td>12.8</td>\n",
       "      <td>10.709267</td>\n",
       "      <td>2.090733</td>\n",
       "      <td>1.860422</td>\n",
       "      <td>1.123795</td>\n",
       "    </tr>\n",
       "    <tr>\n",
       "      <th>3</th>\n",
       "      <td>1368</td>\n",
       "      <td>10.3</td>\n",
       "      <td>10.245840</td>\n",
       "      <td>0.054160</td>\n",
       "      <td>0.047584</td>\n",
       "      <td>1.138197</td>\n",
       "    </tr>\n",
       "    <tr>\n",
       "      <th>4</th>\n",
       "      <td>1598</td>\n",
       "      <td>10.5</td>\n",
       "      <td>9.956199</td>\n",
       "      <td>0.543801</td>\n",
       "      <td>0.474716</td>\n",
       "      <td>1.145529</td>\n",
       "    </tr>\n",
       "    <tr>\n",
       "      <th>5</th>\n",
       "      <td>1796</td>\n",
       "      <td>8.5</td>\n",
       "      <td>9.706855</td>\n",
       "      <td>-1.206855</td>\n",
       "      <td>-1.048677</td>\n",
       "      <td>1.150836</td>\n",
       "    </tr>\n",
       "    <tr>\n",
       "      <th>6</th>\n",
       "      <td>1997</td>\n",
       "      <td>9.5</td>\n",
       "      <td>9.453733</td>\n",
       "      <td>0.046267</td>\n",
       "      <td>0.040048</td>\n",
       "      <td>1.155287</td>\n",
       "    </tr>\n",
       "    <tr>\n",
       "      <th>7</th>\n",
       "      <td>1999</td>\n",
       "      <td>9.2</td>\n",
       "      <td>9.451215</td>\n",
       "      <td>-0.251215</td>\n",
       "      <td>-0.217440</td>\n",
       "      <td>1.155327</td>\n",
       "    </tr>\n",
       "    <tr>\n",
       "      <th>8</th>\n",
       "      <td>2996</td>\n",
       "      <td>6.5</td>\n",
       "      <td>8.195681</td>\n",
       "      <td>-1.695681</td>\n",
       "      <td>-1.457151</td>\n",
       "      <td>1.163696</td>\n",
       "    </tr>\n",
       "    <tr>\n",
       "      <th>9</th>\n",
       "      <td>3197</td>\n",
       "      <td>7.1</td>\n",
       "      <td>7.942559</td>\n",
       "      <td>-0.842559</td>\n",
       "      <td>-0.724684</td>\n",
       "      <td>1.162657</td>\n",
       "    </tr>\n",
       "    <tr>\n",
       "      <th>10</th>\n",
       "      <td>3498</td>\n",
       "      <td>6.6</td>\n",
       "      <td>7.563507</td>\n",
       "      <td>-0.963507</td>\n",
       "      <td>-0.831048</td>\n",
       "      <td>1.159388</td>\n",
       "    </tr>\n",
       "    <tr>\n",
       "      <th>11</th>\n",
       "      <td>5461</td>\n",
       "      <td>4.2</td>\n",
       "      <td>5.091478</td>\n",
       "      <td>-0.891478</td>\n",
       "      <td>-0.821422</td>\n",
       "      <td>1.085286</td>\n",
       "    </tr>\n",
       "    <tr>\n",
       "      <th>12</th>\n",
       "      <td>6162</td>\n",
       "      <td>6.4</td>\n",
       "      <td>4.208701</td>\n",
       "      <td>2.191299</td>\n",
       "      <td>2.119047</td>\n",
       "      <td>1.034097</td>\n",
       "    </tr>\n",
       "    <tr>\n",
       "      <th>13</th>\n",
       "      <td>7291</td>\n",
       "      <td>3.0</td>\n",
       "      <td>2.786938</td>\n",
       "      <td>0.213062</td>\n",
       "      <td>0.232426</td>\n",
       "      <td>0.916688</td>\n",
       "    </tr>\n",
       "  </tbody>\n",
       "</table>\n",
       "</div>"
      ],
      "text/plain": [
       "       x     y         yp         e        e*      e/e*\n",
       "0    792  12.0  10.971204  1.028796  0.923383  1.114160\n",
       "1    994  10.4  10.716823 -0.316823 -0.281988  1.123532\n",
       "2   1000  12.8  10.709267  2.090733  1.860422  1.123795\n",
       "3   1368  10.3  10.245840  0.054160  0.047584  1.138197\n",
       "4   1598  10.5   9.956199  0.543801  0.474716  1.145529\n",
       "5   1796   8.5   9.706855 -1.206855 -1.048677  1.150836\n",
       "6   1997   9.5   9.453733  0.046267  0.040048  1.155287\n",
       "7   1999   9.2   9.451215 -0.251215 -0.217440  1.155327\n",
       "8   2996   6.5   8.195681 -1.695681 -1.457151  1.163696\n",
       "9   3197   7.1   7.942559 -0.842559 -0.724684  1.162657\n",
       "10  3498   6.6   7.563507 -0.963507 -0.831048  1.159388\n",
       "11  5461   4.2   5.091478 -0.891478 -0.821422  1.085286\n",
       "12  6162   6.4   4.208701  2.191299  2.119047  1.034097\n",
       "13  7291   3.0   2.786938  0.213062  0.232426  0.916688"
      ]
     },
     "execution_count": 95,
     "metadata": {},
     "output_type": "execute_result"
    }
   ],
   "source": [
    "\n",
    "df_1 = pd.DataFrame()\n",
    "df_1['x'] = df_cars_1['cap_vol']\n",
    "df_1['y'] = df_cars_1['consumo']\n",
    "df_1['yp'] = b0 + b1*df_1['x']\n",
    "df_1['e'] = df_1['y'] - df_1['yp']\n",
    "influence = modelo.get_influence()\n",
    "df_1['e*'] = list(influence.resid_studentized_internal)\n",
    "df_1['e/e*'] = df_1['e']/df_1['e*']\n",
    "df_1\n"
   ]
  },
  {
   "cell_type": "code",
   "execution_count": 96,
   "metadata": {},
   "outputs": [
    {
     "name": "stderr",
     "output_type": "stream",
     "text": [
      "c:\\Users\\gusta\\univesp_disciplinas\\.venv\\Lib\\site-packages\\seaborn\\axisgrid.py:118: UserWarning: The figure layout has changed to tight\n",
      "  self._figure.tight_layout(*args, **kwargs)\n"
     ]
    },
    {
     "data": {
      "image/png": "[encoded data removed]",
      "text/plain": [
       "<Figure size 500x500 with 1 Axes>"
      ]
     },
     "metadata": {},
     "output_type": "display_data"
    }
   ],
   "source": [
    "sns.lmplot(x = 'x', y = 'y', data=df_1, fit_reg=True)\n",
    "plt.grid(True)\n",
    "plt.show()"
   ]
  },
  {
   "cell_type": "code",
   "execution_count": 97,
   "metadata": {},
   "outputs": [
    {
     "name": "stderr",
     "output_type": "stream",
     "text": [
      "c:\\Users\\gusta\\univesp_disciplinas\\.venv\\Lib\\site-packages\\seaborn\\axisgrid.py:118: UserWarning: The figure layout has changed to tight\n",
      "  self._figure.tight_layout(*args, **kwargs)\n"
     ]
    },
    {
     "data": {
      "image/png": "[encoded data removed]",
      "text/plain": [
       "<Figure size 500x500 with 1 Axes>"
      ]
     },
     "metadata": {},
     "output_type": "display_data"
    }
   ],
   "source": [
    "sns.lmplot(x = 'y', y = 'yp', data=df_1, fit_reg=True)\n",
    "plt.grid(True)\n",
    "plt.show()"
   ]
  },
  {
   "cell_type": "code",
   "execution_count": 98,
   "metadata": {},
   "outputs": [
    {
     "data": {
      "image/png": "[encoded data removed]",
      "text/plain": [
       "<Figure size 640x480 with 1 Axes>"
      ]
     },
     "metadata": {},
     "output_type": "display_data"
    }
   ],
   "source": [
    "sns.scatterplot(x = 'x', y = 'e*', data=df_1)\n",
    "plt.grid(True)\n",
    "plt.xlabel('x = Capacidade Volumétrica')\n",
    "plt.ylabel('e* = Resíduo Padronizado')\n",
    "plt.axhline(y=0, color='black', linestyle='--', linewidth=1)\n",
    "plt.show()"
   ]
  },
  {
   "cell_type": "code",
   "execution_count": 99,
   "metadata": {},
   "outputs": [
    {
     "data": {
      "image/png": "[encoded data removed]",
      "text/plain": [
       "<Figure size 640x480 with 1 Axes>"
      ]
     },
     "metadata": {},
     "output_type": "display_data"
    }
   ],
   "source": [
    "sns.scatterplot(x = 'y', y = 'e*', data=df_1)\n",
    "plt.grid(True)\n",
    "plt.xlabel('y = Consumo')\n",
    "plt.ylabel('e* = Resíduo Padronizado')\n",
    "plt.axhline(y=0, color='black', linestyle='--', linewidth=1)\n",
    "plt.show()"
   ]
  },
  {
   "cell_type": "code",
   "execution_count": 102,
   "metadata": {},
   "outputs": [
    {
     "name": "stderr",
     "output_type": "stream",
     "text": [
      "c:\\Users\\gusta\\univesp_disciplinas\\.venv\\Lib\\site-packages\\statsmodels\\graphics\\gofplots.py:1045: UserWarning: color is redundantly defined by the 'color' keyword argument and the fmt string \"b\" (-> color=(0.0, 0.0, 1.0, 1)). The keyword argument will take precedence.\n",
      "  ax.plot(x, y, fmt, **plot_style)\n"
     ]
    },
    {
     "data": {
      "text/plain": [
       "Text(0, 0.5, 'Resíduos Padronizados')"
      ]
     },
     "execution_count": 102,
     "metadata": {},
     "output_type": "execute_result"
    },
    {
     "data": {
      "image/png": "[encoded data removed]",
      "text/plain": [
       "<Figure size 640x480 with 1 Axes>"
      ]
     },
     "metadata": {},
     "output_type": "display_data"
    }
   ],
   "source": [
    "QQ = ProbPlot(influence.resid_studentized_internal)\n",
    "plot_lm_2 = QQ.qqplot(line='45', alpha=0.5, color='#4C72B0', lw=1)\n",
    "plot_lm_2.axes[0].set_xlabel('Percentil Teórico')\n",
    "plot_lm_2.axes[0].set_ylabel('Resíduos Padronizados')"
   ]
  },
  {
   "cell_type": "code",
   "execution_count": 103,
   "metadata": {},
   "outputs": [
    {
     "data": {
      "text/html": [
       "<div>\n",
       "<style scoped>\n",
       "    .dataframe tbody tr th:only-of-type {\n",
       "        vertical-align: middle;\n",
       "    }\n",
       "\n",
       "    .dataframe tbody tr th {\n",
       "        vertical-align: top;\n",
       "    }\n",
       "\n",
       "    .dataframe thead th {\n",
       "        text-align: right;\n",
       "    }\n",
       "</style>\n",
       "<table border=\"1\" class=\"dataframe\">\n",
       "  <thead>\n",
       "    <tr style=\"text-align: right;\">\n",
       "      <th></th>\n",
       "      <th>x</th>\n",
       "      <th>y</th>\n",
       "    </tr>\n",
       "  </thead>\n",
       "  <tbody>\n",
       "    <tr>\n",
       "      <th>0</th>\n",
       "      <td>5</td>\n",
       "      <td>16.3</td>\n",
       "    </tr>\n",
       "    <tr>\n",
       "      <th>1</th>\n",
       "      <td>10</td>\n",
       "      <td>9.7</td>\n",
       "    </tr>\n",
       "    <tr>\n",
       "      <th>2</th>\n",
       "      <td>15</td>\n",
       "      <td>8.1</td>\n",
       "    </tr>\n",
       "    <tr>\n",
       "      <th>3</th>\n",
       "      <td>20</td>\n",
       "      <td>4.2</td>\n",
       "    </tr>\n",
       "    <tr>\n",
       "      <th>4</th>\n",
       "      <td>25</td>\n",
       "      <td>3.4</td>\n",
       "    </tr>\n",
       "    <tr>\n",
       "      <th>5</th>\n",
       "      <td>30</td>\n",
       "      <td>2.9</td>\n",
       "    </tr>\n",
       "    <tr>\n",
       "      <th>6</th>\n",
       "      <td>45</td>\n",
       "      <td>1.9</td>\n",
       "    </tr>\n",
       "    <tr>\n",
       "      <th>7</th>\n",
       "      <td>60</td>\n",
       "      <td>1.3</td>\n",
       "    </tr>\n",
       "  </tbody>\n",
       "</table>\n",
       "</div>"
      ],
      "text/plain": [
       "    x     y\n",
       "0   5  16.3\n",
       "1  10   9.7\n",
       "2  15   8.1\n",
       "3  20   4.2\n",
       "4  25   3.4\n",
       "5  30   2.9\n",
       "6  45   1.9\n",
       "7  60   1.3"
      ]
     },
     "execution_count": 103,
     "metadata": {},
     "output_type": "execute_result"
    }
   ],
   "source": [
    "lstx = (5, 10, 15, 20, 25, 30, 45, 60)\n",
    "lsty= (16.3, 9.7, 8.1, 4.2, 3.4, 2.9, 1.9, 1.3)\n",
    "\n",
    "df = pd.DataFrame({'x': lstx, 'y': lsty})\n",
    "x = df['x']\n",
    "y = df['y']\n",
    "df"
   ]
  },
  {
   "cell_type": "code",
   "execution_count": 106,
   "metadata": {},
   "outputs": [
    {
     "data": {
      "image/png": "[encoded data removed]",
      "text/plain": [
       "<Figure size 640x480 with 1 Axes>"
      ]
     },
     "metadata": {},
     "output_type": "display_data"
    }
   ],
   "source": [
    "plt.scatter(x, y, color='red')\n",
    "plt.grid(True)\n",
    "plt.show()"
   ]
  },
  {
   "cell_type": "code",
   "execution_count": 108,
   "metadata": {},
   "outputs": [
    {
     "name": "stdout",
     "output_type": "stream",
     "text": [
      "                            OLS Regression Results                            \n",
      "==============================================================================\n",
      "Dep. Variable:                      y   R-squared:                       0.657\n",
      "Model:                            OLS   Adj. R-squared:                  0.600\n",
      "Method:                 Least Squares   F-statistic:                     11.48\n",
      "Date:                Wed, 06 Sep 2023   Prob (F-statistic):             0.0147\n",
      "Time:                        02:02:22   Log-Likelihood:                -19.587\n",
      "No. Observations:                   8   AIC:                             43.17\n",
      "Df Residuals:                       6   BIC:                             43.33\n",
      "Df Model:                           1                                         \n",
      "Covariance Type:            nonrobust                                         \n",
      "==============================================================================\n",
      "                 coef    std err          t      P>|t|      [0.025      0.975]\n",
      "------------------------------------------------------------------------------\n",
      "const         11.8599      2.079      5.705      0.001       6.773      16.947\n",
      "x             -0.2242      0.066     -3.389      0.015      -0.386      -0.062\n",
      "==============================================================================\n",
      "Omnibus:                        1.672   Durbin-Watson:                   0.824\n",
      "Prob(Omnibus):                  0.433   Jarque-Bera (JB):                0.817\n",
      "Skew:                           0.738   Prob(JB):                        0.665\n",
      "Kurtosis:                       2.482   Cond. No.                         57.2\n",
      "==============================================================================\n",
      "\n",
      "Notes:\n",
      "[1] Standard Errors assume that the covariance matrix of the errors is correctly specified.\n"
     ]
    },
    {
     "name": "stderr",
     "output_type": "stream",
     "text": [
      "c:\\Users\\gusta\\univesp_disciplinas\\.venv\\Lib\\site-packages\\scipy\\stats\\_stats_py.py:1806: UserWarning: kurtosistest only valid for n>=20 ... continuing anyway, n=8\n",
      "  warnings.warn(\"kurtosistest only valid for n>=20 ... continuing \"\n"
     ]
    }
   ],
   "source": [
    "x_pred = sm.add_constant(x)\n",
    "modelo = sm.OLS(y, x_pred).fit()\n",
    "print(modelo.summary())"
   ]
  },
  {
   "cell_type": "code",
   "execution_count": 112,
   "metadata": {},
   "outputs": [
    {
     "data": {
      "image/png": "[encoded data removed]",
      "text/plain": [
       "<Figure size 640x480 with 1 Axes>"
      ]
     },
     "metadata": {},
     "output_type": "display_data"
    }
   ],
   "source": [
    "df['ln_x'] = np.log(x)\n",
    "df['ln_y'] = np.log(y)\n",
    "\n",
    "plt.scatter(df['ln_x'], df['ln_y'], color='red')\n",
    "plt.grid(True)\n",
    "plt.show()"
   ]
  },
  {
   "cell_type": "code",
   "execution_count": 113,
   "metadata": {},
   "outputs": [
    {
     "name": "stdout",
     "output_type": "stream",
     "text": [
      "                            OLS Regression Results                            \n",
      "==============================================================================\n",
      "Dep. Variable:                   ln_y   R-squared:                       0.976\n",
      "Model:                            OLS   Adj. R-squared:                  0.971\n",
      "Method:                 Least Squares   F-statistic:                     239.1\n",
      "Date:                Wed, 06 Sep 2023   Prob (F-statistic):           4.63e-06\n",
      "Time:                        02:05:26   Log-Likelihood:                 5.2525\n",
      "No. Observations:                   8   AIC:                            -6.505\n",
      "Df Residuals:                       6   BIC:                            -6.346\n",
      "Df Model:                           1                                         \n",
      "Covariance Type:            nonrobust                                         \n",
      "==============================================================================\n",
      "                 coef    std err          t      P>|t|      [0.025      0.975]\n",
      "------------------------------------------------------------------------------\n",
      "const          4.6384      0.211     21.978      0.000       4.122       5.155\n",
      "ln_x          -1.0492      0.068    -15.462      0.000      -1.215      -0.883\n",
      "==============================================================================\n",
      "Omnibus:                        8.964   Durbin-Watson:                   1.881\n",
      "Prob(Omnibus):                  0.011   Jarque-Bera (JB):                2.783\n",
      "Skew:                           1.325   Prob(JB):                        0.249\n",
      "Kurtosis:                       4.154   Cond. No.                         14.1\n",
      "==============================================================================\n",
      "\n",
      "Notes:\n",
      "[1] Standard Errors assume that the covariance matrix of the errors is correctly specified.\n"
     ]
    },
    {
     "name": "stderr",
     "output_type": "stream",
     "text": [
      "c:\\Users\\gusta\\univesp_disciplinas\\.venv\\Lib\\site-packages\\scipy\\stats\\_stats_py.py:1806: UserWarning: kurtosistest only valid for n>=20 ... continuing anyway, n=8\n",
      "  warnings.warn(\"kurtosistest only valid for n>=20 ... continuing \"\n"
     ]
    }
   ],
   "source": [
    "x_pred = sm.add_constant(df['ln_x'])\n",
    "modelo = sm.OLS(df['ln_y'], x_pred).fit()\n",
    "print(modelo.summary())"
   ]
  },
  {
   "cell_type": "code",
   "execution_count": 119,
   "metadata": {},
   "outputs": [
    {
     "name": "stdout",
     "output_type": "stream",
     "text": [
      "y_20 =  4.460666572067302\n",
      "alfa =  103.38034777939293\n",
      "beta =  -1.049198121311452\n",
      "y_20_exp =  4.460666572067302\n"
     ]
    }
   ],
   "source": [
    "parametros = modelo.params\n",
    "b0 = parametros[0]\n",
    "b1 = parametros[1]\n",
    "x_20 = 20\n",
    "y_20 = np.exp(b0 + b1*np.log(x_20))\n",
    "print('y_20 = ', y_20)\n",
    "alfa = np.exp(b0)\n",
    "beta = b1\n",
    "print('alfa = ', alfa)\n",
    "print('beta = ', beta)\n",
    "y_20_exp = alfa * x_20**beta\n",
    "print('y_20_exp = ', y_20_exp)"
   ]
  },
  {
   "cell_type": "code",
   "execution_count": 121,
   "metadata": {},
   "outputs": [
    {
     "name": "stdout",
     "output_type": "stream",
     "text": [
      "t_crit =  2.4469118487916806\n"
     ]
    }
   ],
   "source": [
    "t_crit = t.ppf(0.975, df = len(df)-2)\n",
    "print('t_crit = ', t_crit)"
   ]
  },
  {
   "cell_type": "code",
   "execution_count": 123,
   "metadata": {},
   "outputs": [
    {
     "name": "stdout",
     "output_type": "stream",
     "text": [
      "SQE =  0.1259894484543931\n",
      "s2 =  0.02099824140906552\n",
      "s =  0.14490769961967348\n"
     ]
    }
   ],
   "source": [
    "residuos = modelo.resid\n",
    "SQE = (residuos**2).sum()\n",
    "print('SQE = ', SQE)\n",
    "s2 = SQE/(len(df)-2)\n",
    "print('s2 = ', s2)\n",
    "s = np.sqrt(s2)\n",
    "print('s = ', s)"
   ]
  },
  {
   "cell_type": "code",
   "execution_count": 126,
   "metadata": {},
   "outputs": [
    {
     "name": "stdout",
     "output_type": "stream",
     "text": [
      "Sy =  0.05125314354652712\n"
     ]
    }
   ],
   "source": [
    "vtx = np.log(x)\n",
    "vty = np.log(y)\n",
    "y_pred = list(modelo.predict())\n",
    "vtxs = np.log(20)\n",
    "vtxm = df['ln_x'].mean()\n",
    "n = len(df)\n",
    "xx = np.sum(vtx**2)\n",
    "xau = np.sum(vtx)\n",
    "Sxx = xx - xau**2/n\n",
    "Sy = s*np.sqrt((1/n)+(vtxs-vtxm)*(vtxs-vtxm)/Sxx)\n",
    "print('Sy = ', Sy)"
   ]
  },
  {
   "cell_type": "code",
   "execution_count": 131,
   "metadata": {},
   "outputs": [
    {
     "name": "stdout",
     "output_type": "stream",
     "text": [
      "erro_y_log_20 =  0.3316568247803911\n",
      "y_log_20 =  1.4952982104850654\n",
      "Intervalo de confiança de y linha = 1.1636413857046743  < y <  1.8269550352654564\n"
     ]
    }
   ],
   "source": [
    "erro_y_log_20 = t_crit*np.sqrt(s2 - Sy**2)\n",
    "print('erro_y_log_20 = ', erro_y_log_20)\n",
    "y_log_20 = b0 + b1*vtxs\n",
    "print('y_log_20 = ', y_log_20)\n",
    "print('Intervalo de confiança de y linha =', y_log_20 - erro_y_log_20, ' < y < ', y_log_20 + erro_y_log_20)"
   ]
  },
  {
   "cell_type": "code",
   "execution_count": 132,
   "metadata": {},
   "outputs": [
    {
     "name": "stdout",
     "output_type": "stream",
     "text": [
      "Intervalo de confiança de y = 3.2015702280032947  < y <  6.2149335638868815\n"
     ]
    }
   ],
   "source": [
    "print('Intervalo de confiança de y =', np.exp(y_log_20 - erro_y_log_20), ' < y < ', np.exp(y_log_20 + erro_y_log_20))"
   ]
  },
  {
   "cell_type": "code",
   "execution_count": 133,
   "metadata": {},
   "outputs": [
    {
     "data": {
      "image/png": "[encoded data removed]",
      "text/plain": [
       "<Figure size 640x480 with 1 Axes>"
      ]
     },
     "metadata": {},
     "output_type": "display_data"
    }
   ],
   "source": [
    "x = (1.7, 2.2, 2.3, 2.6, 2.7, 3.0, 3.2, 3.3, 4.1, 4.3, 4.6, 5.7, 6.1)\n",
    "y = (1.3, 1.8, 1.6, 2.0, 2.1, 2.2, 3.0, 2.6, 4.1, 3.7, 5.0, 5.8, 5.3)\n",
    "df = pd.DataFrame({'x': x, 'y': y})\n",
    "plt.scatter(df['x'], df['y'], color='red')\n",
    "plt.grid(True)\n",
    "plt.show()"
   ]
  },
  {
   "cell_type": "code",
   "execution_count": 134,
   "metadata": {},
   "outputs": [
    {
     "data": {
      "image/png": "[encoded data removed]",
      "text/plain": [
       "<Figure size 640x480 with 1 Axes>"
      ]
     },
     "metadata": {},
     "output_type": "display_data"
    }
   ],
   "source": [
    "df['ln_x'] = np.log(df['x'])\n",
    "df['ln_y'] = np.log(df['y'])\n",
    "plt.scatter(df['ln_x'], df['ln_y'], color='red')\n",
    "plt.grid(True)\n",
    "plt.show()"
   ]
  },
  {
   "cell_type": "code",
   "execution_count": 135,
   "metadata": {},
   "outputs": [
    {
     "name": "stdout",
     "output_type": "stream",
     "text": [
      "                            OLS Regression Results                            \n",
      "==============================================================================\n",
      "Dep. Variable:                   ln_y   R-squared:                       0.960\n",
      "Model:                            OLS   Adj. R-squared:                  0.956\n",
      "Method:                 Least Squares   F-statistic:                     261.5\n",
      "Date:                Wed, 06 Sep 2023   Prob (F-statistic):           5.15e-09\n",
      "Time:                        02:46:30   Log-Likelihood:                 12.264\n",
      "No. Observations:                  13   AIC:                            -20.53\n",
      "Df Residuals:                      11   BIC:                            -19.40\n",
      "Df Model:                           1                                         \n",
      "Covariance Type:            nonrobust                                         \n",
      "==============================================================================\n",
      "                 coef    std err          t      P>|t|      [0.025      0.975]\n",
      "------------------------------------------------------------------------------\n",
      "const         -0.4676      0.097     -4.836      0.001      -0.680      -0.255\n",
      "ln_x           1.2536      0.078     16.172      0.000       1.083       1.424\n",
      "==============================================================================\n",
      "Omnibus:                        2.244   Durbin-Watson:                   2.426\n",
      "Prob(Omnibus):                  0.326   Jarque-Bera (JB):                0.986\n",
      "Skew:                           0.163   Prob(JB):                        0.611\n",
      "Kurtosis:                       1.691   Cond. No.                         6.83\n",
      "==============================================================================\n",
      "\n",
      "Notes:\n",
      "[1] Standard Errors assume that the covariance matrix of the errors is correctly specified.\n"
     ]
    },
    {
     "name": "stderr",
     "output_type": "stream",
     "text": [
      "c:\\Users\\gusta\\univesp_disciplinas\\.venv\\Lib\\site-packages\\scipy\\stats\\_stats_py.py:1806: UserWarning: kurtosistest only valid for n>=20 ... continuing anyway, n=13\n",
      "  warnings.warn(\"kurtosistest only valid for n>=20 ... continuing \"\n"
     ]
    }
   ],
   "source": [
    "x_pred = sm.add_constant(df['ln_x'])\n",
    "modelo = sm.OLS(df['ln_y'], x_pred).fit()\n",
    "print(modelo.summary())"
   ]
  },
  {
   "cell_type": "code",
   "execution_count": 141,
   "metadata": {},
   "outputs": [
    {
     "name": "stdout",
     "output_type": "stream",
     "text": [
      "ln_y =  -0.4676194453983052  +  1.2535562199105885 * ln_x\n",
      "y =  0.6264918926711472 * x ^ 1.2535562199105885\n"
     ]
    }
   ],
   "source": [
    "b = modelo.params\n",
    "b0 = b[0]\n",
    "b1 = b[1]\n",
    "alfa = np.exp(b0)\n",
    "beta = b1\n",
    "print('ln_y = ', b0, ' + ', b1, '* ln_x')\n",
    "print('y = ', alfa, '* x ^', beta)"
   ]
  }
 ],
 "metadata": {
  "kernelspec": {
   "display_name": ".venv",
   "language": "python",
   "name": "python3"
  },
  "language_info": {
   "codemirror_mode": {
    "name": "ipython",
    "version": 3
   },
   "file_extension": ".py",
   "mimetype": "text/x-python",
   "name": "python",
   "nbconvert_exporter": "python",
   "pygments_lexer": "ipython3",
   "version": "3.11.4"
  },
  "orig_nbformat": 4
 },
 "nbformat": 4,
 "nbformat_minor": 2
}
